{
 "cells": [
  {
   "cell_type": "code",
   "execution_count": 14,
   "metadata": {},
   "outputs": [],
   "source": [
    "import cv2 \n",
    "import os \n",
    "from glob import glob\n",
    "import json\n",
    "import csv\n",
    "import io\n",
    "import pickle\n",
    "import numpy as np\n",
    "import matplotlib.pyplot as plt \n",
    "import pandas as pd\n",
    "import os.path as osp\n",
    "\n",
    "from datetime import datetime\n",
    "from pathlib import Path\n",
    "from functools import partial\n",
    "from p_tqdm import p_map\n",
    "from tqdm import tqdm \n",
    "from module.utils import imread, imfindcircles, findProjectiveTransform, str2array, circle_detection_multi_thread, find_valid_dest_circles\n",
    "from module.disp_measure import displacement_measure, homography_transformation\n",
    "from module.apca import run_apca_cas \n",
    "\n",
    "# Import circle detection and APCA parameters \n",
    "with open('params.json') as param_config_json : \n",
    "    param_config = json.load(param_config_json)\n",
    "\n"
   ]
  },
  {
   "cell_type": "code",
   "execution_count": 2,
   "metadata": {},
   "outputs": [],
   "source": [
    "import json\n",
    "with open('sensor_data.json') as f:\n",
    "    sensors_dict = json.load(f)"
   ]
  },
  {
   "cell_type": "code",
   "execution_count": 3,
   "metadata": {},
   "outputs": [],
   "source": [
    "with open('data_tmp.pkl', \"rb\") as f:\n",
    "    sns_dict = pickle.load(f)"
   ]
  },
  {
   "cell_type": "code",
   "execution_count": 4,
   "metadata": {},
   "outputs": [],
   "source": [
    "data_fr = pd.DataFrame(sns_dict)"
   ]
  },
  {
   "cell_type": "code",
   "execution_count": 71,
   "metadata": {},
   "outputs": [],
   "source": [
    "writer = pd.ExcelWriter('2021.03.24.xlsx', engine='xlsxwriter')\n"
   ]
  },
  {
   "cell_type": "code",
   "execution_count": 72,
   "metadata": {},
   "outputs": [],
   "source": [
    "sensor_info = pd.DataFrame(columns=['snsr_num','type','pier','slab','block',\n",
    "                                          'sns_dir', 'sns_loc', 'disp_dir', 'install_year'])\n",
    "\n",
    "for k, v in  data_fr.items() : \n",
    "\n",
    "    \n",
    "    sensor_info = sensor_info.append({'snsr_num' : str(k) , \n",
    "                                      'type' : v['type'],\n",
    "                                      'pier':v['pier'],\n",
    "                                      'slab':v['slab'],\n",
    "                                      'block':v['block'],\n",
    "                                      'sns_dir':v['sns_dir'],\n",
    "                                      'sns_loc':v['sns_loc'],\n",
    "                                      'disp_dir':v['disp_dir'], \n",
    "                                      'install_year' : v['install_year']} , ignore_index = True)\n",
    "    \n",
    "\n",
    "\n",
    "sensor_info.to_excel(writer, sheet_name= 'snsr_info')\n"
   ]
  },
  {
   "cell_type": "code",
   "execution_count": 73,
   "metadata": {},
   "outputs": [
    {
     "name": "stderr",
     "output_type": "stream",
     "text": [
      "100%|██████████| 83/83 [00:00<00:00, 228.92it/s]\n"
     ]
    }
   ],
   "source": [
    "SNS_INFO = pd.read_csv('sensor_info.csv')\n",
    "\n",
    "# set dataset folder directory \n",
    "data_root = '/media/sss/Seagate Backup Plus Drive/NIA_Smart_Monitoring/folderized_data'\n",
    "\n",
    "# Sensor type \n",
    "sns_type = 'Img'\n",
    "\n",
    "# create image sensor list from folder \n",
    "# loop along folders under Img \n",
    "# img_sns_list = []\n",
    "# for folder in glob(osp.join(data_root, sns_type, '*')): \n",
    "#     img_sns_list.append(osp.basename(folder))\n",
    "\n",
    "# img_sns_list.sort()\n",
    "img_sns_list = ['002', '005', '008', '011', '014', '017', '023', '026',  \n",
    "              '029', '032','035','038','041','044','047','050','062','065','068',\n",
    "              '071','074','077','090','093','094','097','098','103','104','107',\n",
    "              '108','111','112','115','116','119','120','123','124','127','128',\n",
    "              '131','132','135','136','139','140','143','144','147','148','151',\n",
    "              '152','155','156','159','160','163','164','167','168','171','172',\n",
    "              '175','176','179','180','183','184','187','188','191','192','195',\n",
    "              '196','199','200','203','204','207','208','211','212']\n",
    "# search imgs in subdirectories \n",
    "img_folder_list = []\n",
    "for sns_num in tqdm(img_sns_list) : \n",
    "    img_list = glob(osp.join(data_root, sns_type, sns_num, '*', '*', '*'))\n",
    "    \n",
    "    filtered_list_by_year =  [item for item in img_list if int(item.split('/')[-3]) >= 2020]\n",
    "    filtered_list_by_month =  [item for item in filtered_list_by_year if int(item.split('/')[-2]) >= 9]\n",
    "    filtered_list_by_date =  [item for item in filtered_list_by_month if int(item.split('/')[-1]) >= 1]\n",
    "    img_folder_list.append(filtered_list_by_date)\n",
    "    \n",
    "    \n",
    "\n",
    "\n"
   ]
  },
  {
   "cell_type": "code",
   "execution_count": 76,
   "metadata": {},
   "outputs": [
    {
     "name": "stderr",
     "output_type": "stream",
     "text": [
      "83it [00:11,  7.34it/s]\n"
     ]
    }
   ],
   "source": [
    "\n",
    "for idx, img_folder in tqdm(enumerate(img_folder_list)): \n",
    "    disp_info = disp_info_list[idx]\n",
    "    sns_num = img_folder[0].split('/')[-4]\n",
    "    disp_info.to_excel(writer, sheet_name= sns_num)"
   ]
  },
  {
   "cell_type": "code",
   "execution_count": 47,
   "metadata": {},
   "outputs": [
    {
     "name": "stderr",
     "output_type": "stream",
     "text": [
      "100%|██████████| 83/83 [09:31<00:00,  6.88s/it]\n"
     ]
    }
   ],
   "source": [
    "disp_info_list = []\n",
    "for img_folder in tqdm(img_folder_list): \n",
    "    \n",
    "    sns_num = img_folder[0].split('/')[-4]\n",
    "    disp_info = pd.DataFrame(columns=['datetime', 'circles','x_disp','y_disp'])\n",
    "    \n",
    "    for date_folder in img_folder: \n",
    "        # folder names \n",
    "        log_folder = osp.join(date_folder, 'logs')\n",
    "        \n",
    "        log_folder_exits = Path(log_folder).exists()\n",
    "        \n",
    "        \n",
    "        if log_folder_exits : \n",
    "            \n",
    "            log_folders_by_time = glob(osp.join(log_folder, '*' ))\n",
    "            \n",
    "            if len(log_folders_by_time) > 1 :\n",
    "                log_folders_by_time.sort()\n",
    "                latest_log = log_folders_by_time[-1]\n",
    "                \n",
    "            else: \n",
    "                latest_log = log_folders_by_time[0]\n",
    "            \n",
    "            \n",
    "            circles_pickle_filename = osp.join(latest_log, 'circle_detection_results.pickle')\n",
    "            circle_detection_folder = osp.join(latest_log, 'circle_detection_result_images')\n",
    "            displacement_dict_filename = osp.join(latest_log, 'displacement_measurement.json')\n",
    "            circle_detection_list = glob(osp.join(circle_detection_folder, \"*.jpg\"))\n",
    "            \n",
    "            with open(circles_pickle_filename , 'rb') as readfile:\n",
    "                circles_dict = pickle.load(readfile)\n",
    "                \n",
    "            with open(displacement_dict_filename , 'r') as readfile:\n",
    "                displacement_dict = json.load(readfile)\n",
    "            \n",
    "            for circle_detection_image in circle_detection_list:\n",
    "                image_basename = osp.basename(circle_detection_image)\n",
    "                image_basename_no_ext = image_basename.split('.')[0]\n",
    "                sns_type, _ , year_month_date, hh_mm_ss = image_basename_no_ext.split('_')\n",
    "#                 print(sns_type, year_month_date, hh_mm_ss)\n",
    "                dest_circles = circles_dict[image_basename]\n",
    "                x_disp = displacement_dict[image_basename]['x_disp']\n",
    "                y_disp = displacement_dict[image_basename]['y_disp']\n",
    "\n",
    "                disp_info = disp_info.append({'datetime' : str(year_month_date) + str(hh_mm_ss[:2]),\n",
    "                                              'circles' : dest_circles,\n",
    "                                              'x_disp': x_disp,\n",
    "                                              'y_disp': y_disp }, ignore_index = True)\n",
    "    disp_info_list.append(disp_info)    \n",
    "    disp_info.to_excel(writer, sheet_name= sns_num)"
   ]
  },
  {
   "cell_type": "code",
   "execution_count": 10,
   "metadata": {},
   "outputs": [
    {
     "name": "stderr",
     "output_type": "stream",
     "text": [
      "IOPub data rate exceeded.\n",
      "The notebook server will temporarily stop sending output\n",
      "to the client in order to avoid crashing it.\n",
      "To change this limit, set the config variable\n",
      "`--NotebookApp.iopub_data_rate_limit`.\n",
      "\n",
      "Current values:\n",
      "NotebookApp.iopub_data_rate_limit=1000000.0 (bytes/sec)\n",
      "NotebookApp.rate_limit_window=3.0 (secs)\n",
      "\n"
     ]
    },
    {
     "ename": "KeyboardInterrupt",
     "evalue": "",
     "output_type": "error",
     "traceback": [
      "\u001b[0;31m---------------------------------------------------------------------------\u001b[0m",
      "\u001b[0;31mKeyboardInterrupt\u001b[0m                         Traceback (most recent call last)",
      "\u001b[0;32m<ipython-input-10-7c3a0167cabb>\u001b[0m in \u001b[0;36m<module>\u001b[0;34m\u001b[0m\n\u001b[1;32m      3\u001b[0m \u001b[0;34m\u001b[0m\u001b[0m\n\u001b[1;32m      4\u001b[0m \u001b[0;34m\u001b[0m\u001b[0m\n\u001b[0;32m----> 5\u001b[0;31m     \u001b[0mprint\u001b[0m\u001b[0;34m(\u001b[0m\u001b[0mv\u001b[0m\u001b[0;34m[\u001b[0m\u001b[0;34m'data'\u001b[0m\u001b[0;34m]\u001b[0m\u001b[0;34m)\u001b[0m\u001b[0;34m\u001b[0m\u001b[0;34m\u001b[0m\u001b[0m\n\u001b[0m\u001b[1;32m      6\u001b[0m \u001b[0;31m#     if v['type'] == 'Img' :\u001b[0m\u001b[0;34m\u001b[0m\u001b[0;34m\u001b[0m\u001b[0;34m\u001b[0m\u001b[0m\n\u001b[1;32m      7\u001b[0m \u001b[0;31m#         disp_info = pd.DataFrame(columns=['datetime', 'circles','x_disp','y_disp'])\u001b[0m\u001b[0;34m\u001b[0m\u001b[0;34m\u001b[0m\u001b[0;34m\u001b[0m\u001b[0m\n",
      "\u001b[0;32m~/anaconda3/envs/shoe-monit/lib/python3.7/site-packages/numpy/core/arrayprint.py\u001b[0m in \u001b[0;36m_array_repr_implementation\u001b[0;34m(arr, max_line_width, precision, suppress_small, array2string)\u001b[0m\n\u001b[1;32m   1385\u001b[0m     \u001b[0;32melif\u001b[0m \u001b[0marr\u001b[0m\u001b[0;34m.\u001b[0m\u001b[0msize\u001b[0m \u001b[0;34m>\u001b[0m \u001b[0;36m0\u001b[0m \u001b[0;32mor\u001b[0m \u001b[0marr\u001b[0m\u001b[0;34m.\u001b[0m\u001b[0mshape\u001b[0m \u001b[0;34m==\u001b[0m \u001b[0;34m(\u001b[0m\u001b[0;36m0\u001b[0m\u001b[0;34m,\u001b[0m\u001b[0;34m)\u001b[0m\u001b[0;34m:\u001b[0m\u001b[0;34m\u001b[0m\u001b[0;34m\u001b[0m\u001b[0m\n\u001b[1;32m   1386\u001b[0m         lst = array2string(arr, max_line_width, precision, suppress_small,\n\u001b[0;32m-> 1387\u001b[0;31m                            ', ', prefix, suffix=suffix)\n\u001b[0m\u001b[1;32m   1388\u001b[0m     \u001b[0;32melse\u001b[0m\u001b[0;34m:\u001b[0m  \u001b[0;31m# show zero-length shape unless it is (0,)\u001b[0m\u001b[0;34m\u001b[0m\u001b[0;34m\u001b[0m\u001b[0m\n\u001b[1;32m   1389\u001b[0m         \u001b[0mlst\u001b[0m \u001b[0;34m=\u001b[0m \u001b[0;34m\"[], shape=%s\"\u001b[0m \u001b[0;34m%\u001b[0m \u001b[0;34m(\u001b[0m\u001b[0mrepr\u001b[0m\u001b[0;34m(\u001b[0m\u001b[0marr\u001b[0m\u001b[0;34m.\u001b[0m\u001b[0mshape\u001b[0m\u001b[0;34m)\u001b[0m\u001b[0;34m,\u001b[0m\u001b[0;34m)\u001b[0m\u001b[0;34m\u001b[0m\u001b[0;34m\u001b[0m\u001b[0m\n",
      "\u001b[0;32m~/anaconda3/envs/shoe-monit/lib/python3.7/site-packages/numpy/core/arrayprint.py\u001b[0m in \u001b[0;36marray2string\u001b[0;34m(a, max_line_width, precision, suppress_small, separator, prefix, style, formatter, threshold, edgeitems, sign, floatmode, suffix, legacy)\u001b[0m\n\u001b[1;32m    690\u001b[0m         \u001b[0;32mreturn\u001b[0m \u001b[0;34m\"[]\"\u001b[0m\u001b[0;34m\u001b[0m\u001b[0;34m\u001b[0m\u001b[0m\n\u001b[1;32m    691\u001b[0m \u001b[0;34m\u001b[0m\u001b[0m\n\u001b[0;32m--> 692\u001b[0;31m     \u001b[0;32mreturn\u001b[0m \u001b[0m_array2string\u001b[0m\u001b[0;34m(\u001b[0m\u001b[0ma\u001b[0m\u001b[0;34m,\u001b[0m \u001b[0moptions\u001b[0m\u001b[0;34m,\u001b[0m \u001b[0mseparator\u001b[0m\u001b[0;34m,\u001b[0m \u001b[0mprefix\u001b[0m\u001b[0;34m)\u001b[0m\u001b[0;34m\u001b[0m\u001b[0;34m\u001b[0m\u001b[0m\n\u001b[0m\u001b[1;32m    693\u001b[0m \u001b[0;34m\u001b[0m\u001b[0m\n\u001b[1;32m    694\u001b[0m \u001b[0;34m\u001b[0m\u001b[0m\n",
      "\u001b[0;32m~/anaconda3/envs/shoe-monit/lib/python3.7/site-packages/numpy/core/arrayprint.py\u001b[0m in \u001b[0;36mwrapper\u001b[0;34m(self, *args, **kwargs)\u001b[0m\n\u001b[1;32m    466\u001b[0m             \u001b[0mrepr_running\u001b[0m\u001b[0;34m.\u001b[0m\u001b[0madd\u001b[0m\u001b[0;34m(\u001b[0m\u001b[0mkey\u001b[0m\u001b[0;34m)\u001b[0m\u001b[0;34m\u001b[0m\u001b[0;34m\u001b[0m\u001b[0m\n\u001b[1;32m    467\u001b[0m             \u001b[0;32mtry\u001b[0m\u001b[0;34m:\u001b[0m\u001b[0;34m\u001b[0m\u001b[0;34m\u001b[0m\u001b[0m\n\u001b[0;32m--> 468\u001b[0;31m                 \u001b[0;32mreturn\u001b[0m \u001b[0mf\u001b[0m\u001b[0;34m(\u001b[0m\u001b[0mself\u001b[0m\u001b[0;34m,\u001b[0m \u001b[0;34m*\u001b[0m\u001b[0margs\u001b[0m\u001b[0;34m,\u001b[0m \u001b[0;34m**\u001b[0m\u001b[0mkwargs\u001b[0m\u001b[0;34m)\u001b[0m\u001b[0;34m\u001b[0m\u001b[0;34m\u001b[0m\u001b[0m\n\u001b[0m\u001b[1;32m    469\u001b[0m             \u001b[0;32mfinally\u001b[0m\u001b[0;34m:\u001b[0m\u001b[0;34m\u001b[0m\u001b[0;34m\u001b[0m\u001b[0m\n\u001b[1;32m    470\u001b[0m                 \u001b[0mrepr_running\u001b[0m\u001b[0;34m.\u001b[0m\u001b[0mdiscard\u001b[0m\u001b[0;34m(\u001b[0m\u001b[0mkey\u001b[0m\u001b[0;34m)\u001b[0m\u001b[0;34m\u001b[0m\u001b[0;34m\u001b[0m\u001b[0m\n",
      "\u001b[0;32m~/anaconda3/envs/shoe-monit/lib/python3.7/site-packages/numpy/core/arrayprint.py\u001b[0m in \u001b[0;36m_array2string\u001b[0;34m(a, options, separator, prefix)\u001b[0m\n\u001b[1;32m    492\u001b[0m \u001b[0;34m\u001b[0m\u001b[0m\n\u001b[1;32m    493\u001b[0m     \u001b[0;31m# find the right formatting function for the array\u001b[0m\u001b[0;34m\u001b[0m\u001b[0;34m\u001b[0m\u001b[0;34m\u001b[0m\u001b[0m\n\u001b[0;32m--> 494\u001b[0;31m     \u001b[0mformat_function\u001b[0m \u001b[0;34m=\u001b[0m \u001b[0m_get_format_function\u001b[0m\u001b[0;34m(\u001b[0m\u001b[0mdata\u001b[0m\u001b[0;34m,\u001b[0m \u001b[0;34m**\u001b[0m\u001b[0moptions\u001b[0m\u001b[0;34m)\u001b[0m\u001b[0;34m\u001b[0m\u001b[0;34m\u001b[0m\u001b[0m\n\u001b[0m\u001b[1;32m    495\u001b[0m \u001b[0;34m\u001b[0m\u001b[0m\n\u001b[1;32m    496\u001b[0m     \u001b[0;31m# skip over \"[\"\u001b[0m\u001b[0;34m\u001b[0m\u001b[0;34m\u001b[0m\u001b[0;34m\u001b[0m\u001b[0m\n",
      "\u001b[0;32m~/anaconda3/envs/shoe-monit/lib/python3.7/site-packages/numpy/core/arrayprint.py\u001b[0m in \u001b[0;36m_get_format_function\u001b[0;34m(data, **options)\u001b[0m\n\u001b[1;32m    425\u001b[0m             \u001b[0;32mreturn\u001b[0m \u001b[0mformatdict\u001b[0m\u001b[0;34m[\u001b[0m\u001b[0;34m'longfloat'\u001b[0m\u001b[0;34m]\u001b[0m\u001b[0;34m(\u001b[0m\u001b[0;34m)\u001b[0m\u001b[0;34m\u001b[0m\u001b[0;34m\u001b[0m\u001b[0m\n\u001b[1;32m    426\u001b[0m         \u001b[0;32melse\u001b[0m\u001b[0;34m:\u001b[0m\u001b[0;34m\u001b[0m\u001b[0;34m\u001b[0m\u001b[0m\n\u001b[0;32m--> 427\u001b[0;31m             \u001b[0;32mreturn\u001b[0m \u001b[0mformatdict\u001b[0m\u001b[0;34m[\u001b[0m\u001b[0;34m'float'\u001b[0m\u001b[0;34m]\u001b[0m\u001b[0;34m(\u001b[0m\u001b[0;34m)\u001b[0m\u001b[0;34m\u001b[0m\u001b[0;34m\u001b[0m\u001b[0m\n\u001b[0m\u001b[1;32m    428\u001b[0m     \u001b[0;32melif\u001b[0m \u001b[0missubclass\u001b[0m\u001b[0;34m(\u001b[0m\u001b[0mdtypeobj\u001b[0m\u001b[0;34m,\u001b[0m \u001b[0m_nt\u001b[0m\u001b[0;34m.\u001b[0m\u001b[0mcomplexfloating\u001b[0m\u001b[0;34m)\u001b[0m\u001b[0;34m:\u001b[0m\u001b[0;34m\u001b[0m\u001b[0;34m\u001b[0m\u001b[0m\n\u001b[1;32m    429\u001b[0m         \u001b[0;32mif\u001b[0m \u001b[0missubclass\u001b[0m\u001b[0;34m(\u001b[0m\u001b[0mdtypeobj\u001b[0m\u001b[0;34m,\u001b[0m \u001b[0m_nt\u001b[0m\u001b[0;34m.\u001b[0m\u001b[0mclongfloat\u001b[0m\u001b[0;34m)\u001b[0m\u001b[0;34m:\u001b[0m\u001b[0;34m\u001b[0m\u001b[0;34m\u001b[0m\u001b[0m\n",
      "\u001b[0;32m~/anaconda3/envs/shoe-monit/lib/python3.7/site-packages/numpy/core/arrayprint.py\u001b[0m in \u001b[0;36m<lambda>\u001b[0;34m()\u001b[0m\n\u001b[1;32m    365\u001b[0m         \u001b[0;34m'int'\u001b[0m\u001b[0;34m:\u001b[0m \u001b[0;32mlambda\u001b[0m\u001b[0;34m:\u001b[0m \u001b[0mIntegerFormat\u001b[0m\u001b[0;34m(\u001b[0m\u001b[0mdata\u001b[0m\u001b[0;34m)\u001b[0m\u001b[0;34m,\u001b[0m\u001b[0;34m\u001b[0m\u001b[0;34m\u001b[0m\u001b[0m\n\u001b[1;32m    366\u001b[0m         'float': lambda: FloatingFormat(\n\u001b[0;32m--> 367\u001b[0;31m             data, precision, floatmode, suppress, sign, legacy=legacy),\n\u001b[0m\u001b[1;32m    368\u001b[0m         'longfloat': lambda: FloatingFormat(\n\u001b[1;32m    369\u001b[0m             data, precision, floatmode, suppress, sign, legacy=legacy),\n",
      "\u001b[0;32m~/anaconda3/envs/shoe-monit/lib/python3.7/site-packages/numpy/core/arrayprint.py\u001b[0m in \u001b[0;36m__init__\u001b[0;34m(self, data, precision, floatmode, suppress_small, sign, legacy)\u001b[0m\n\u001b[1;32m    859\u001b[0m         \u001b[0mself\u001b[0m\u001b[0;34m.\u001b[0m\u001b[0mlarge_exponent\u001b[0m \u001b[0;34m=\u001b[0m \u001b[0;32mFalse\u001b[0m\u001b[0;34m\u001b[0m\u001b[0;34m\u001b[0m\u001b[0m\n\u001b[1;32m    860\u001b[0m \u001b[0;34m\u001b[0m\u001b[0m\n\u001b[0;32m--> 861\u001b[0;31m         \u001b[0mself\u001b[0m\u001b[0;34m.\u001b[0m\u001b[0mfillFormat\u001b[0m\u001b[0;34m(\u001b[0m\u001b[0mdata\u001b[0m\u001b[0;34m)\u001b[0m\u001b[0;34m\u001b[0m\u001b[0;34m\u001b[0m\u001b[0m\n\u001b[0m\u001b[1;32m    862\u001b[0m \u001b[0;34m\u001b[0m\u001b[0m\n\u001b[1;32m    863\u001b[0m     \u001b[0;32mdef\u001b[0m \u001b[0mfillFormat\u001b[0m\u001b[0;34m(\u001b[0m\u001b[0mself\u001b[0m\u001b[0;34m,\u001b[0m \u001b[0mdata\u001b[0m\u001b[0;34m)\u001b[0m\u001b[0;34m:\u001b[0m\u001b[0;34m\u001b[0m\u001b[0;34m\u001b[0m\u001b[0m\n",
      "\u001b[0;32m~/anaconda3/envs/shoe-monit/lib/python3.7/site-packages/numpy/core/arrayprint.py\u001b[0m in \u001b[0;36mfillFormat\u001b[0;34m(self, data)\u001b[0m\n\u001b[1;32m    916\u001b[0m                                        sign=self.sign == '+')\n\u001b[1;32m    917\u001b[0m                     for x in finite_vals)\n\u001b[0;32m--> 918\u001b[0;31m             \u001b[0mint_part\u001b[0m\u001b[0;34m,\u001b[0m \u001b[0mfrac_part\u001b[0m \u001b[0;34m=\u001b[0m \u001b[0mzip\u001b[0m\u001b[0;34m(\u001b[0m\u001b[0;34m*\u001b[0m\u001b[0;34m(\u001b[0m\u001b[0ms\u001b[0m\u001b[0;34m.\u001b[0m\u001b[0msplit\u001b[0m\u001b[0;34m(\u001b[0m\u001b[0;34m'.'\u001b[0m\u001b[0;34m)\u001b[0m \u001b[0;32mfor\u001b[0m \u001b[0ms\u001b[0m \u001b[0;32min\u001b[0m \u001b[0mstrs\u001b[0m\u001b[0;34m)\u001b[0m\u001b[0;34m)\u001b[0m\u001b[0;34m\u001b[0m\u001b[0;34m\u001b[0m\u001b[0m\n\u001b[0m\u001b[1;32m    919\u001b[0m             \u001b[0;32mif\u001b[0m \u001b[0mself\u001b[0m\u001b[0;34m.\u001b[0m\u001b[0m_legacy\u001b[0m \u001b[0;34m==\u001b[0m \u001b[0;34m'1.13'\u001b[0m\u001b[0;34m:\u001b[0m\u001b[0;34m\u001b[0m\u001b[0;34m\u001b[0m\u001b[0m\n\u001b[1;32m    920\u001b[0m                 \u001b[0mself\u001b[0m\u001b[0;34m.\u001b[0m\u001b[0mpad_left\u001b[0m \u001b[0;34m=\u001b[0m \u001b[0;36m1\u001b[0m \u001b[0;34m+\u001b[0m \u001b[0mmax\u001b[0m\u001b[0;34m(\u001b[0m\u001b[0mlen\u001b[0m\u001b[0;34m(\u001b[0m\u001b[0ms\u001b[0m\u001b[0;34m.\u001b[0m\u001b[0mlstrip\u001b[0m\u001b[0;34m(\u001b[0m\u001b[0;34m'-+'\u001b[0m\u001b[0;34m)\u001b[0m\u001b[0;34m)\u001b[0m \u001b[0;32mfor\u001b[0m \u001b[0ms\u001b[0m \u001b[0;32min\u001b[0m \u001b[0mint_part\u001b[0m\u001b[0;34m)\u001b[0m\u001b[0;34m\u001b[0m\u001b[0;34m\u001b[0m\u001b[0m\n",
      "\u001b[0;32m~/anaconda3/envs/shoe-monit/lib/python3.7/site-packages/numpy/core/arrayprint.py\u001b[0m in \u001b[0;36m<genexpr>\u001b[0;34m(.0)\u001b[0m\n\u001b[1;32m    916\u001b[0m                                        sign=self.sign == '+')\n\u001b[1;32m    917\u001b[0m                     for x in finite_vals)\n\u001b[0;32m--> 918\u001b[0;31m             \u001b[0mint_part\u001b[0m\u001b[0;34m,\u001b[0m \u001b[0mfrac_part\u001b[0m \u001b[0;34m=\u001b[0m \u001b[0mzip\u001b[0m\u001b[0;34m(\u001b[0m\u001b[0;34m*\u001b[0m\u001b[0;34m(\u001b[0m\u001b[0ms\u001b[0m\u001b[0;34m.\u001b[0m\u001b[0msplit\u001b[0m\u001b[0;34m(\u001b[0m\u001b[0;34m'.'\u001b[0m\u001b[0;34m)\u001b[0m \u001b[0;32mfor\u001b[0m \u001b[0ms\u001b[0m \u001b[0;32min\u001b[0m \u001b[0mstrs\u001b[0m\u001b[0;34m)\u001b[0m\u001b[0;34m)\u001b[0m\u001b[0;34m\u001b[0m\u001b[0;34m\u001b[0m\u001b[0m\n\u001b[0m\u001b[1;32m    919\u001b[0m             \u001b[0;32mif\u001b[0m \u001b[0mself\u001b[0m\u001b[0;34m.\u001b[0m\u001b[0m_legacy\u001b[0m \u001b[0;34m==\u001b[0m \u001b[0;34m'1.13'\u001b[0m\u001b[0;34m:\u001b[0m\u001b[0;34m\u001b[0m\u001b[0;34m\u001b[0m\u001b[0m\n\u001b[1;32m    920\u001b[0m                 \u001b[0mself\u001b[0m\u001b[0;34m.\u001b[0m\u001b[0mpad_left\u001b[0m \u001b[0;34m=\u001b[0m \u001b[0;36m1\u001b[0m \u001b[0;34m+\u001b[0m \u001b[0mmax\u001b[0m\u001b[0;34m(\u001b[0m\u001b[0mlen\u001b[0m\u001b[0;34m(\u001b[0m\u001b[0ms\u001b[0m\u001b[0;34m.\u001b[0m\u001b[0mlstrip\u001b[0m\u001b[0;34m(\u001b[0m\u001b[0;34m'-+'\u001b[0m\u001b[0;34m)\u001b[0m\u001b[0;34m)\u001b[0m \u001b[0;32mfor\u001b[0m \u001b[0ms\u001b[0m \u001b[0;32min\u001b[0m \u001b[0mint_part\u001b[0m\u001b[0;34m)\u001b[0m\u001b[0;34m\u001b[0m\u001b[0;34m\u001b[0m\u001b[0m\n",
      "\u001b[0;32m~/anaconda3/envs/shoe-monit/lib/python3.7/site-packages/numpy/core/arrayprint.py\u001b[0m in \u001b[0;36m<genexpr>\u001b[0;34m(.0)\u001b[0m\n\u001b[1;32m    915\u001b[0m                                        \u001b[0munique\u001b[0m\u001b[0;34m=\u001b[0m\u001b[0munique\u001b[0m\u001b[0;34m,\u001b[0m \u001b[0mtrim\u001b[0m\u001b[0;34m=\u001b[0m\u001b[0mtrim\u001b[0m\u001b[0;34m,\u001b[0m\u001b[0;34m\u001b[0m\u001b[0;34m\u001b[0m\u001b[0m\n\u001b[1;32m    916\u001b[0m                                        sign=self.sign == '+')\n\u001b[0;32m--> 917\u001b[0;31m                     for x in finite_vals)\n\u001b[0m\u001b[1;32m    918\u001b[0m             \u001b[0mint_part\u001b[0m\u001b[0;34m,\u001b[0m \u001b[0mfrac_part\u001b[0m \u001b[0;34m=\u001b[0m \u001b[0mzip\u001b[0m\u001b[0;34m(\u001b[0m\u001b[0;34m*\u001b[0m\u001b[0;34m(\u001b[0m\u001b[0ms\u001b[0m\u001b[0;34m.\u001b[0m\u001b[0msplit\u001b[0m\u001b[0;34m(\u001b[0m\u001b[0;34m'.'\u001b[0m\u001b[0;34m)\u001b[0m \u001b[0;32mfor\u001b[0m \u001b[0ms\u001b[0m \u001b[0;32min\u001b[0m \u001b[0mstrs\u001b[0m\u001b[0;34m)\u001b[0m\u001b[0;34m)\u001b[0m\u001b[0;34m\u001b[0m\u001b[0;34m\u001b[0m\u001b[0m\n\u001b[1;32m    919\u001b[0m             \u001b[0;32mif\u001b[0m \u001b[0mself\u001b[0m\u001b[0;34m.\u001b[0m\u001b[0m_legacy\u001b[0m \u001b[0;34m==\u001b[0m \u001b[0;34m'1.13'\u001b[0m\u001b[0;34m:\u001b[0m\u001b[0;34m\u001b[0m\u001b[0;34m\u001b[0m\u001b[0m\n",
      "\u001b[0;31mKeyboardInterrupt\u001b[0m: "
     ]
    }
   ],
   "source": [
    "for k, v in  data_fr.items() : \n",
    "    \n",
    "    \n",
    "    \n",
    "    print(v['data'])\n",
    "#     if v['type'] == 'Img' : \n",
    "#         disp_info = pd.DataFrame(columns=['datetime', 'circles','x_disp','y_disp'])\n",
    "    \n",
    "#         for k2, v2 in v['circles'].items():\n",
    "#             for k3, v3 in v2.items():\n",
    "\n",
    "    \n",
    "#                 disp_info = disp_info.append({'datetime' : str(k2) + str(k3[:2]) , \n",
    "#                                                   'circles' : v3,\n",
    "#                                                   'x_disp':v['x_disp'][k2][k3],\n",
    "#                                                   'y_disp':v['y_disp'][k2][k3]} , ignore_index = True)\n",
    "#         disp_info.to_excel(writer, sheet_name= k)\n",
    "        \n",
    "#     elif not v['temp'] != v['temp'] : \n",
    "#         disp_info = pd.DataFrame(columns=['datetime', 'temp'])\n",
    "    \n",
    "#         for k2, v2 in v['temp'].items():\n",
    "#             for k3, v3 in v2.items():\n",
    "\n",
    "    \n",
    "#                 disp_info = disp_info.append({'datetime' : str(k2) + str(k3[:2]) , \n",
    "#                                   type                'temp' : v3} , ignore_index = True)\n",
    "        \n",
    "#         disp_info.to_excel(writer, sheet_name= k)\n",
    "    \n",
    "    \n",
    "    \n",
    "    "
   ]
  },
  {
   "cell_type": "code",
   "execution_count": 80,
   "metadata": {},
   "outputs": [],
   "source": [
    "writer.save()"
   ]
  },
  {
   "cell_type": "code",
   "execution_count": 39,
   "metadata": {},
   "outputs": [],
   "source": [
    "disp_info.to_excel(writer, sheet_name= sns_num)"
   ]
  },
  {
   "cell_type": "code",
   "execution_count": 55,
   "metadata": {},
   "outputs": [
    {
     "name": "stderr",
     "output_type": "stream",
     "text": [
      "100%|██████████| 57/57 [00:03<00:00, 17.23it/s]\n"
     ]
    }
   ],
   "source": [
    "\n",
    "\n",
    "# set dataset folder directory \n",
    "data_root = '/media/sss/Seagate Backup Plus Drive/NIA_Smart_Monitoring/folderized_data'\n",
    "\n",
    "# Sensor type \n",
    "sns_type = 'Tmp'\n",
    "\n",
    "# create image sensor list from folder \n",
    "# loop along folders under Img \n",
    "img_sns_list = []\n",
    "for folder in glob(osp.join(data_root, sns_type, '*')): \n",
    "    img_sns_list.append(osp.basename(folder))\n",
    "\n",
    "img_sns_list.sort()\n",
    "# img_sns_list = ['002', '005', '008', '011', '014', '017', '023', '026',  \n",
    "#               '029', '032','035','038','041','044','047','050','062','065','068',\n",
    "#               '071','074','077','090','093','094','097','098','103','104','107',\n",
    "#               '108','111','112','115','116','119','120','123','124','127','128',\n",
    "#               '131','132','135','136','139','140','143','144','147','148','151',\n",
    "#               '152','155','156','159','160','163','164','167','168','171','172',\n",
    "#               '175','176','179','180','183','184','187','188','191','192','195',\n",
    "#               '196','199','200','203','204','207','208','211','212']\n",
    "# search imgs in subdirectories \n",
    "img_folder_list = []\n",
    "for sns_num in tqdm(img_sns_list) : \n",
    "    img_list = glob(osp.join(data_root, sns_type, sns_num, '*', '*', '*'))\n",
    "    \n",
    "    filtered_list_by_year =  [item for item in img_list if int(item.split('/')[-3]) >= 2020]\n",
    "    filtered_list_by_month =  [item for item in filtered_list_by_year if int(item.split('/')[-2]) >= 9]\n",
    "    filtered_list_by_date =  [item for item in filtered_list_by_month if int(item.split('/')[-1]) >= 1]\n",
    "    img_folder_list.append(filtered_list_by_date)"
   ]
  },
  {
   "cell_type": "code",
   "execution_count": 79,
   "metadata": {},
   "outputs": [],
   "source": [
    "for k, v in tmp_dict.items():\n",
    "#     print(k)\n",
    "# for idx, img_folder in tqdm(enumerate(img_folder_list)): \n",
    "    \n",
    "    v.to_excel(writer, sheet_name= k)\n",
    "    "
   ]
  },
  {
   "cell_type": "code",
   "execution_count": 70,
   "metadata": {},
   "outputs": [
    {
     "name": "stderr",
     "output_type": "stream",
     "text": [
      "100%|██████████| 57/57 [07:30<00:00,  7.90s/it]\n"
     ]
    }
   ],
   "source": [
    "\n",
    "tmp_dict = {}\n",
    "for img_folder in tqdm(img_folder_list): \n",
    "    \n",
    "    sns_num = img_folder[0].split('/')[-4]\n",
    "    tmp_info = pd.DataFrame(columns=['datetime', 'temp'])\n",
    "    \n",
    "    for date_folder in img_folder: \n",
    "        \n",
    "        tmp_list = glob(osp.join(date_folder, '*.tpr'))\n",
    "        for tmp_file in tmp_list : \n",
    "            tmp_measured = None\n",
    "            f = io.open(tmp_file, mode=\"r\", encoding=\"utf-8\")\n",
    "            txt = f.read()\n",
    "            if txt :\n",
    "                tmp_measured = str2array(txt)[1]\n",
    "\n",
    "\n",
    "            tmp_basename = osp.basename(tmp_file)\n",
    "            sns_type = tmp_basename[:3]\n",
    "            sns_id = tmp_basename[4:7]\n",
    "            date = tmp_basename[8:16]\n",
    "            time_ = tmp_basename[17:23]\n",
    "            \n",
    "            tmp_info = tmp_info.append({'datetime' : str(date) + str(time_[:2]) , \n",
    "                                          'temp' : tmp_measured} , ignore_index = True)\n",
    "            \n",
    "    tmp_dict[sns_num] = tmp_info\n"
   ]
  },
  {
   "cell_type": "code",
   "execution_count": 68,
   "metadata": {},
   "outputs": [
    {
     "data": {
      "text/plain": [
       "'000000'"
      ]
     },
     "execution_count": 68,
     "metadata": {},
     "output_type": "execute_result"
    }
   ],
   "source": [
    "time_"
   ]
  }
 ],
 "metadata": {
  "kernelspec": {
   "display_name": "Python 3",
   "language": "python",
   "name": "python3"
  },
  "language_info": {
   "codemirror_mode": {
    "name": "ipython",
    "version": 3
   },
   "file_extension": ".py",
   "mimetype": "text/x-python",
   "name": "python",
   "nbconvert_exporter": "python",
   "pygments_lexer": "ipython3",
   "version": "3.7.9"
  }
 },
 "nbformat": 4,
 "nbformat_minor": 4
}
