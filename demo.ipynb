{
 "cells": [
  {
   "cell_type": "code",
   "execution_count": 2,
   "metadata": {},
   "outputs": [],
   "source": [
    "import cv2 \n",
    "import os \n",
    "import glob\n",
    "import numpy as np\n",
    "\n",
    "import matplotlib.pyplot as plt \n",
    "\n",
    "from tqdm import tqdm \n",
    "from module.utils import imread\n",
    "from module.disp_measure import convert_by_img"
   ]
  },
  {
   "cell_type": "code",
   "execution_count": 3,
   "metadata": {},
   "outputs": [],
   "source": [
    "img_list = glob.glob(os.path.join(r'C:\\Users\\shdik\\UOS-SSaS Dropbox\\02. Projects\\2019 NIA 인공지능기반 시설물 스마트 모니터링 체계 구축\\2020.08.14 변위탐지모듈 파이썬변환', 'P34_9', '*.jpg'))"
   ]
  },
  {
   "cell_type": "code",
   "execution_count": 3,
   "metadata": {},
   "outputs": [],
   "source": [
    "## check the circle detection accuracy \n",
    "\n",
    "param1 = 100\n",
    "param2 = 16\n",
    "min_rad = 30\n",
    "max_rad = 40\n",
    "img = imread(img_list[670]) \n",
    "grey_img = cv2.cvtColor(img, cv2.COLOR_BGR2GRAY)\n",
    "\n",
    "ret3, th3 = cv2.threshold(grey_img, 0, 255, cv2.THRESH_BINARY+cv2.THRESH_OTSU)\n",
    "\n",
    "circles = cv2.HoughCircles(th3, \n",
    "                               cv2.HOUGH_GRADIENT,\n",
    "                               1, \n",
    "                               20, \n",
    "                               param1=param1,\n",
    "                               param2=param2,\n",
    "                               minRadius=min_rad,\n",
    "                               maxRadius=max_rad)\n",
    "\n",
    "# Draw circles that are detected. \n",
    "if circles is not None: \n",
    "  \n",
    "    # Convert the circle parameters a, b and r to integers. \n",
    "    circles = np.uint16(np.around(circles)) \n",
    "  \n",
    "    for pt in circles[0, :]: \n",
    "        a, b, r = pt[0], pt[1], pt[2] \n",
    "  \n",
    "        # Draw the circumference of the circle. \n",
    "        cv2.circle(th3, (a, b), r, (0, 255, 0), 2) \n",
    "  \n",
    "        # Draw a small circle (of radius 1) to show the center. \n",
    "        cv2.circle(th3, (a, b), 1, (0, 0, 255), 3) \n",
    "        cv2.imshow(\"Detected Circle\", th3) \n",
    "        cv2.waitKey(0) \n",
    "else:\n",
    "        cv2.imshow('Circle is not detected', th3)\n",
    "        cv2.waitKey(0) "
   ]
  },
  {
   "cell_type": "code",
   "execution_count": 4,
   "metadata": {},
   "outputs": [
    {
     "name": "stderr",
     "output_type": "stream",
     "text": [
      "  0%|▏                                                                                 | 2/843 [00:00<01:58,  7.11it/s]"
     ]
    },
    {
     "name": "stdout",
     "output_type": "stream",
     "text": [
      "[[ 954.5  718.5   37.6]\n",
      " [1046.5  622.5   38.3]\n",
      " [ 953.5  624.5   38.3]\n",
      " [1047.5  716.5   37.7]\n",
      " [ 298.5  984.5   31.6]]\n",
      "[(0, 1, 2, 3), (0, 1, 2, 4), (0, 1, 3, 4), (0, 2, 3, 4), (1, 2, 3, 4)]\n"
     ]
    },
    {
     "name": "stderr",
     "output_type": "stream",
     "text": [
      "  1%|▊                                                                                 | 8/843 [00:01<01:50,  7.54it/s]"
     ]
    },
    {
     "name": "stdout",
     "output_type": "stream",
     "text": [
      "[[1053.5  717.5   37.7]\n",
      " [1051.5  622.5   38.1]\n",
      " [ 960.5  720.5   38.3]\n",
      " [ 956.5  626.5   39.4]\n",
      " [1481.5  381.5   30.4]]\n",
      "[(0, 1, 2, 3), (0, 1, 2, 4), (0, 1, 3, 4), (0, 2, 3, 4), (1, 2, 3, 4)]\n"
     ]
    },
    {
     "name": "stderr",
     "output_type": "stream",
     "text": [
      "  1%|█                                                                                | 11/843 [00:01<02:00,  6.92it/s]"
     ]
    },
    {
     "name": "stdout",
     "output_type": "stream",
     "text": [
      "[[1038.5  717.5   37.7]\n",
      " [1037.5  623.5   38.3]\n",
      " [ 943.5  628.5   37.2]\n",
      " [ 943.5  721.5   37.2]\n",
      " [1712.5  513.5   35. ]]\n",
      "[(0, 1, 2, 3), (0, 1, 2, 4), (0, 1, 3, 4), (0, 2, 3, 4), (1, 2, 3, 4)]\n"
     ]
    },
    {
     "name": "stderr",
     "output_type": "stream",
     "text": [
      "  2%|█▏                                                                               | 13/843 [00:01<02:12,  6.29it/s]"
     ]
    },
    {
     "name": "stdout",
     "output_type": "stream",
     "text": [
      "[[ 937.5  721.5   37.4]\n",
      " [ 935.5  626.5   38. ]\n",
      " [1029.5  623.5   37.7]\n",
      " [1031.5  717.5   38. ]\n",
      " [ 914.5  363.5   33.8]]\n",
      "[(0, 1, 2, 3), (0, 1, 2, 4), (0, 1, 3, 4), (0, 2, 3, 4), (1, 2, 3, 4)]\n"
     ]
    },
    {
     "name": "stderr",
     "output_type": "stream",
     "text": [
      "  2%|█▋                                                                               | 17/843 [00:02<02:03,  6.70it/s]"
     ]
    },
    {
     "name": "stdout",
     "output_type": "stream",
     "text": [
      "[[1040.5  716.5   37.1]\n",
      " [1038.5  622.5   37.7]\n",
      " [ 947.5  719.5   37.9]\n",
      " [ 945.5  626.5   37.1]\n",
      " [ 570.5 1009.5   36. ]]\n",
      "[(0, 1, 2, 3), (0, 1, 2, 4), (0, 1, 3, 4), (0, 2, 3, 4), (1, 2, 3, 4)]\n"
     ]
    },
    {
     "name": "stderr",
     "output_type": "stream",
     "text": [
      "  3%|██▌                                                                              | 27/843 [00:04<02:11,  6.21it/s]\n"
     ]
    },
    {
     "ename": "KeyboardInterrupt",
     "evalue": "",
     "output_type": "error",
     "traceback": [
      "\u001b[1;31m---------------------------------------------------------------------------\u001b[0m",
      "\u001b[1;31mKeyboardInterrupt\u001b[0m                         Traceback (most recent call last)",
      "\u001b[1;32m<ipython-input-4-80f2ec093d00>\u001b[0m in \u001b[0;36m<module>\u001b[1;34m\u001b[0m\n\u001b[0;32m      9\u001b[0m                                  \u001b[0mmax_rad\u001b[0m \u001b[1;33m=\u001b[0m \u001b[1;36m40\u001b[0m\u001b[1;33m,\u001b[0m\u001b[1;33m\u001b[0m\u001b[1;33m\u001b[0m\u001b[0m\n\u001b[0;32m     10\u001b[0m                                  \u001b[0mparam1\u001b[0m \u001b[1;33m=\u001b[0m \u001b[1;36m100\u001b[0m\u001b[1;33m,\u001b[0m\u001b[1;33m\u001b[0m\u001b[1;33m\u001b[0m\u001b[0m\n\u001b[1;32m---> 11\u001b[1;33m                                  param2 = 15))\n\u001b[0m",
      "\u001b[1;32m~\\brg-shoe-disp-monit\\module\\disp_measure.py\u001b[0m in \u001b[0;36mconvert_by_img\u001b[1;34m(dest_img, src_img, param1, param2, p_length, min_rad, max_rad)\u001b[0m\n\u001b[0;32m     67\u001b[0m                                         \u001b[0mparam2\u001b[0m\u001b[1;33m=\u001b[0m\u001b[0mparam2\u001b[0m\u001b[1;33m,\u001b[0m\u001b[1;33m\u001b[0m\u001b[1;33m\u001b[0m\u001b[0m\n\u001b[0;32m     68\u001b[0m                                         \u001b[0mminRadius\u001b[0m\u001b[1;33m=\u001b[0m\u001b[0mmin_rad\u001b[0m\u001b[1;33m,\u001b[0m\u001b[1;33m\u001b[0m\u001b[1;33m\u001b[0m\u001b[0m\n\u001b[1;32m---> 69\u001b[1;33m                                         maxRadius=max_rad)[0] \n\u001b[0m\u001b[0;32m     70\u001b[0m \u001b[1;33m\u001b[0m\u001b[0m\n\u001b[0;32m     71\u001b[0m         \u001b[0mnum_centers\u001b[0m \u001b[1;33m=\u001b[0m \u001b[0mlen\u001b[0m\u001b[1;33m(\u001b[0m\u001b[0mdest_circles\u001b[0m\u001b[1;33m)\u001b[0m\u001b[1;33m\u001b[0m\u001b[1;33m\u001b[0m\u001b[0m\n",
      "\u001b[1;31mKeyboardInterrupt\u001b[0m: "
     ]
    }
   ],
   "source": [
    "result = [] \n",
    "src_img = imread(img_list[0])\n",
    "\n",
    "for img_path in tqdm(img_list): \n",
    "    dest_img = imread(img_path)\n",
    "    result.append(convert_by_img(dest_img,\n",
    "                                 src_img,\n",
    "                                 min_rad = 30,\n",
    "                                 max_rad = 40,\n",
    "                                 param1 = 100,\n",
    "                                 param2 = 15))"
   ]
  },
  {
   "cell_type": "code",
   "execution_count": 5,
   "metadata": {},
   "outputs": [],
   "source": [
    "collect_rslt = []\n",
    "for rslt in result : \n",
    "    collect_rslt.append(rslt[0])"
   ]
  },
  {
   "cell_type": "code",
   "execution_count": 6,
   "metadata": {},
   "outputs": [
    {
     "data": {
      "text/plain": [
       "[<matplotlib.lines.Line2D at 0x20064b37148>]"
      ]
     },
     "execution_count": 6,
     "metadata": {},
     "output_type": "execute_result"
    },
    {
     "data": {
      "image/png": "[encoded data removed]",
      "text/plain": [
       "<Figure size 432x288 with 1 Axes>"
      ]
     },
     "metadata": {
      "needs_background": "light"
     },
     "output_type": "display_data"
    }
   ],
   "source": [
    "plt.plot(np.array(collect_rslt))"
   ]
  },
  {
   "cell_type": "code",
   "execution_count": 9,
   "metadata": {},
   "outputs": [],
   "source": [
    "np.savetxt(\"P34_7.csv\", np.array(collect_rslt), delimiter=\",\")"
   ]
  }
 ],
 "metadata": {
  "kernelspec": {
   "display_name": "Python 3",
   "language": "python",
   "name": "python3"
  },
  "language_info": {
   "codemirror_mode": {
    "name": "ipython",
    "version": 3
   },
   "file_extension": ".py",
   "mimetype": "text/x-python",
   "name": "python",
   "nbconvert_exporter": "python",
   "pygments_lexer": "ipython3",
   "version": "3.7.6"
  }
 },
 "nbformat": 4,
 "nbformat_minor": 2
}
