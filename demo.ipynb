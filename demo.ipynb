{
 "cells": [
  {
   "cell_type": "code",
   "execution_count": 1,
   "metadata": {},
   "outputs": [],
   "source": [
    "import cv2 \n",
    "import os \n",
    "import glob\n",
    "import json\n",
    "import numpy as np\n",
    "import matplotlib.pyplot as plt \n",
    "\n",
    "\n",
    "from tqdm import tqdm \n",
    "from module.utils import imread, imfindcircles\n",
    "from module.disp_measure import displacement_measure"
   ]
  },
  {
   "cell_type": "code",
   "execution_count": 2,
   "metadata": {},
   "outputs": [
    {
     "name": "stderr",
     "output_type": "stream",
     "text": [
      "100%|██████████████████████████████████████████████████████████████████████████████████| 68/68 [04:12<00:00,  3.72s/it]\n"
     ]
    },
    {
     "data": {
      "text/plain": [
       "[<matplotlib.lines.Line2D at 0x242b3555e88>]"
      ]
     },
     "execution_count": 2,
     "metadata": {},
     "output_type": "execute_result"
    },
    {
     "data": {
      "image/png": "[encoded data removed]",
      "text/plain": [
       "<Figure size 432x288 with 1 Axes>"
      ]
     },
     "metadata": {
      "needs_background": "light"
     },
     "output_type": "display_data"
    }
   ],
   "source": [
    "# 센서 번호 입력\n",
    "sensor_num = 196\n",
    "sensor_num = str(sensor_num)\n",
    "\n",
    "# 센서 번호에 따른 이미지 리스트 호출\n",
    "img_list = glob.glob(os.path.join(r'imgs', sensor_num, '*.jpg'))\n",
    "\n",
    "# 센서 번호에 따른 세부 파라메터 호출 \n",
    "with open('params.json') as param_config_json : \n",
    "    param_config = json.load(param_config_json)\n",
    "    \n",
    "params = param_config[sensor_num]\n",
    "\n",
    "\n",
    "result = [] # 결과를 저장할 result list \n",
    "\n",
    "# 최초 source image에서 circle detection 수행 \n",
    "src_img = imread(img_list[0])\n",
    "centers, r_estimated, metric = imfindcircles(src_img, \n",
    "                                             [params['min_rad'], params['max_rad']],\n",
    "                                            sensitivity = 0.96)\n",
    "src_circles = np.concatenate((centers, r_estimated[:,np.newaxis]), axis = 0).T\n",
    "src_circles = np.squeeze(src_circles)\n",
    "\n",
    "# 호출된 이미지 목록에서 displacement_measure 수행 \n",
    "for img_path in tqdm(img_list[:100]): \n",
    "    dest_img = imread(img_path)\n",
    "    \n",
    "    '''\n",
    "    변경사항\n",
    "    1. 함수 이름을 displacement_measure로 변경하였습니다. \n",
    "    2. displacement_measure에 필요한 변수는 아래와 같습니다. \n",
    "        1) dest_img : 측정 대상 이미지 \n",
    "        2) src_img : 고정점 이미지 \n",
    "        3) src_circles : 고정점 이미지에서 탐지된 원들의 중심 좌표 및 지름 (고정점 이미지에서 변위 재측정 방지용)\n",
    "        4) min_rad : 최소 원의 지름 크기 / max_rad : 최대 원의 지름 크기 \n",
    "    '''\n",
    "    disp, dest_circles = displacement_measure(dest_img,\n",
    "                                              src_img,\n",
    "                                              src_circles = src_circles,                                            \n",
    "                                              min_rad = params['min_rad'],\n",
    "                                              max_rad = params['max_rad'])\n",
    "    \n",
    "    result.append(disp)\n",
    "    for dest_circle in dest_circles : \n",
    "        dest_img = cv2.circle(dest_img, tuple(np.asarray(dest_circle[:2], dtype =np.int64)), int(dest_circle[2]), (0,255,0), thickness=1, lineType=8, shift=0)\n",
    "    cv2.imwrite(img_path[:-4] + '_with_circles_result.jpeg', dest_img)\n",
    "    \n",
    "collect_rslt = []\n",
    "for rslt in result : \n",
    "    collect_rslt.append(rslt[0])\n",
    "    \n",
    "plt.plot(np.array(collect_rslt))"
   ]
  },
  {
   "cell_type": "code",
   "execution_count": 2,
   "metadata": {},
   "outputs": [],
   "source": [
    "## check the circle detection accuracy \n",
    "\n",
    "param1 = 200\n",
    "param2 = 14\n",
    "min_rad = 75\n",
    "max_rad = 90\n",
    "img = imread(r'imgs\\196\\Img_196_20200829_190100.jpg') \n",
    "\n",
    "\n",
    "centers, r_estimated, metric = imfindcircles(img, \n",
    "                                             [min_rad, max_rad],\n",
    "                                             sensitivity = 0.99)\n",
    "circles = np.concatenate((centers, r_estimated[:,np.newaxis]), axis = 0).T\n",
    "circles = np.squeeze(circles)\n",
    "\n",
    "# Draw circles that are detected. \n",
    "if circles is not None: \n",
    "  \n",
    "    # Convert the circle parameters a, b and r to integers. \n",
    "    circles = np.uint16(np.around(circles)) \n",
    "  \n",
    "    for pt in circles: \n",
    "        a, b, r = pt[0], pt[1], pt[2] \n",
    "  \n",
    "        # Draw the circumference of the circle. \n",
    "        cv2.circle(img, (a, b), r, (0, 255, 0), 2) \n",
    "  \n",
    "        # Draw a small circle (of radius 1) to show the center. \n",
    "        cv2.circle(img, (a, b), 1, (0, 0, 255), 3) \n",
    "        cv2.imshow(\"Detected Circle\", img) \n",
    "        cv2.waitKey(0) \n",
    "else:\n",
    "        cv2.imshow('Circle is not detected', img)\n",
    "        cv2.waitKey(0) \n"
   ]
  },
  {
   "cell_type": "code",
   "execution_count": 13,
   "metadata": {},
   "outputs": [],
   "source": [
    "start_p = time.time()\n",
    "\n",
    "sensitivity = 0.96\n",
    "centers = []\n",
    "r_estimated = []\n",
    "metric = []\n",
    "radiusRange = [35, 45]\n",
    "\n",
    "A = imread(img_list[0]) \n",
    "\n",
    "centers, r_estimated, metric = imfindcircles(A, radiusRange,  ObjectPolarity = 'bright', sensitivity = 0.95)\n"
   ]
  }
 ],
 "metadata": {
  "kernelspec": {
   "display_name": "Python 3",
   "language": "python",
   "name": "python3"
  },
  "language_info": {
   "codemirror_mode": {
    "name": "ipython",
    "version": 3
   },
   "file_extension": ".py",
   "mimetype": "text/x-python",
   "name": "python",
   "nbconvert_exporter": "python",
   "pygments_lexer": "ipython3",
   "version": "3.7.7"
  }
 },
 "nbformat": 4,
 "nbformat_minor": 2
}
