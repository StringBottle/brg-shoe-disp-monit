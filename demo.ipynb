{
 "cells": [
  {
   "cell_type": "code",
   "execution_count": 2,
   "metadata": {},
   "outputs": [],
   "source": [
    "import cv2 \n",
    "import os \n",
    "import glob\n",
    "import json\n",
    "import numpy as np\n",
    "\n",
    "\n",
    "import matplotlib.pyplot as plt \n",
    "\n",
    "from tqdm import tqdm \n",
    "from module.utils import imread\n",
    "from module.disp_measure import convert_by_img"
   ]
  },
  {
   "cell_type": "code",
   "execution_count": 3,
   "metadata": {},
   "outputs": [],
   "source": [
    "sensor_num = 204\n",
    "sensor_num = str(sensor_num)\n",
    "\n",
    "\n",
    "img_list = glob.glob(os.path.join(r'imgs', sensor_num, '*.jpg'))\n",
    "\n",
    "with open('params.json') as param_config_json : \n",
    "    param_config = json.load(param_config_json)\n",
    "    \n"
   ]
  },
  {
   "cell_type": "code",
   "execution_count": 47,
   "metadata": {},
   "outputs": [
    {
     "name": "stderr",
     "output_type": "stream",
     "text": [
      " 41%|█████████████████████████████████▎                                                | 35/86 [00:26<01:06,  1.30s/it]"
     ]
    },
    {
     "name": "stdout",
     "output_type": "stream",
     "text": [
      "After 200 iteration, 4 circles are not detected.\n"
     ]
    },
    {
     "name": "stderr",
     "output_type": "stream",
     "text": [
      "100%|██████████████████████████████████████████████████████████████████████████████████| 86/86 [01:12<00:00,  1.19it/s]\n",
      "C:\\Users\\shdik\\AppData\\Local\\Continuum\\anaconda3\\envs\\shoe-monit\\lib\\site-packages\\ipykernel_launcher.py:27: VisibleDeprecationWarning: Creating an ndarray from ragged nested sequences (which is a list-or-tuple of lists-or-tuples-or ndarrays with different lengths or shapes) is deprecated. If you meant to do this, you must specify 'dtype=object' when creating the ndarray\n"
     ]
    },
    {
     "data": {
      "text/plain": [
       "[<matplotlib.lines.Line2D at 0x22f3b57ae08>]"
      ]
     },
     "execution_count": 47,
     "metadata": {},
     "output_type": "execute_result"
    },
    {
     "data": {
      "image/png": "[encoded data removed]",
      "text/plain": [
       "<Figure size 432x288 with 1 Axes>"
      ]
     },
     "metadata": {
      "needs_background": "light"
     },
     "output_type": "display_data"
    }
   ],
   "source": [
    "params = param_config[sensor_num]\n",
    "\n",
    "result = [] \n",
    "src_img = imread(img_list[0])\n",
    "\n",
    "for img_path in tqdm(img_list): \n",
    "    dest_img = imread(img_path)\n",
    "    disp, dest_circles = convert_by_img(dest_img,\n",
    "                                 src_img,\n",
    "                                 min_rad = params['min_rad'],\n",
    "                                 max_rad = params['max_rad'],\n",
    "                                 param1 = params['param1'],\n",
    "                                 param2 = params['param2'])\n",
    "    result.append(disp)\n",
    "#     for dest_circle in dest_circles : \n",
    "#         dest_img = cv2.circle(dest_img, tuple(dest_circle[:2]), int(dest_circle[2]), (0,255,0), thickness=1, lineType=8, shift=0)\n",
    "    dest_img = cv2.cvtColor(dest_img, cv2.COLOR_BGR2GRAY)\n",
    "    dest_img = cv2.adaptiveThreshold(dest_img,255,cv2.ADAPTIVE_THRESH_GAUSSIAN_C,\\\n",
    "            cv2.THRESH_BINARY,11,10)\n",
    "#     _, dest_img = cv2.threshold(dest_img, 0, 255, cv2.THRESH_BINARY+cv2.THRESH_OTSU)\n",
    "    cv2.imwrite(img_path[:-4] + '_with_circles_result.jpeg', dest_img)\n",
    "    \n",
    "collect_rslt = []\n",
    "for rslt in result : \n",
    "    collect_rslt.append(rslt[0])\n",
    "    \n",
    "plt.plot(np.array(collect_rslt))"
   ]
  },
  {
   "cell_type": "code",
   "execution_count": 45,
   "metadata": {},
   "outputs": [],
   "source": [
    "## check the circle detection accuracy \n",
    "\n",
    "param1 = 200\n",
    "param2 = 14\n",
    "min_rad = 77\n",
    "max_rad = 83\n",
    "img = imread(img_list[0]) \n",
    "\n",
    "# ret3, grey_img = cv2.threshold(grey_img, 0, 255, cv2.THRESH_BINARY+cv2.THRESH_OTSU)\n",
    "grey_img = cv2.cvtColor(img, cv2.COLOR_BGR2GRAY)\n",
    "grey_img = cv2.adaptiveThreshold(grey_img,255,cv2.ADAPTIVE_THRESH_GAUSSIAN_C,\\\n",
    "        cv2.THRESH_BINARY,11,10)\n"
   ]
  },
  {
   "cell_type": "code",
   "execution_count": 46,
   "metadata": {},
   "outputs": [],
   "source": [
    "# th3 = 255 - th3\n",
    "\n",
    "circles = cv2.HoughCircles(grey_img, \n",
    "                           cv2.HOUGH_GRADIENT,\n",
    "                           1, \n",
    "                           max_rad*2, \n",
    "                           param1=param1,\n",
    "                           param2=param2,\n",
    "                           minRadius=min_rad,\n",
    "                           maxRadius=max_rad)\n",
    "\n",
    "# Draw circles that are detected. \n",
    "if circles is not None: \n",
    "  \n",
    "    # Convert the circle parameters a, b and r to integers. \n",
    "    circles = np.uint16(np.around(circles)) \n",
    "  \n",
    "    for pt in circles[0, :]: \n",
    "        a, b, r = pt[0], pt[1], pt[2] \n",
    "  \n",
    "        # Draw the circumference of the circle. \n",
    "        cv2.circle(img, (a, b), r, (0, 255, 0), 2) \n",
    "  \n",
    "        # Draw a small circle (of radius 1) to show the center. \n",
    "        cv2.circle(img, (a, b), 1, (0, 0, 255), 3) \n",
    "        cv2.imshow(\"Detected Circle\", img) \n",
    "        cv2.waitKey(0) \n",
    "else:\n",
    "        cv2.imshow('Circle is not detected', img)\n",
    "        cv2.waitKey(0) "
   ]
  },
  {
   "cell_type": "code",
   "execution_count": null,
   "metadata": {},
   "outputs": [],
   "source": []
  }
 ],
 "metadata": {
  "kernelspec": {
   "display_name": "Python 3",
   "language": "python",
   "name": "python3"
  }
 },
 "nbformat": 4,
 "nbformat_minor": 2
}
