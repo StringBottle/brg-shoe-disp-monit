{
 "cells": [
  {
   "cell_type": "code",
   "execution_count": 1,
   "metadata": {},
   "outputs": [],
   "source": [
    "import cv2 \n",
    "import os \n",
    "import glob\n",
    "import json\n",
    "import numpy as np\n",
    "import matplotlib.pyplot as plt \n",
    "\n",
    "\n",
    "from tqdm import tqdm \n",
    "from module.utils import imread, imfindcircles\n",
    "from module.disp_measure import displacement_measure"
   ]
  },
  {
   "cell_type": "code",
   "execution_count": 2,
   "metadata": {},
   "outputs": [],
   "source": [
    "sensor_num = 59\n",
    "sensor_num = str(sensor_num)\n",
    "\n",
    "\n",
    "img_list = glob.glob(os.path.join(r'imgs', sensor_num, '*.jpg'))\n",
    "\n",
    "with open('params.json') as param_config_json : \n",
    "    param_config = json.load(param_config_json)"
   ]
  },
  {
   "cell_type": "code",
   "execution_count": 3,
   "metadata": {},
   "outputs": [],
   "source": [
    "params = param_config[sensor_num]\n",
    "\n",
    "result = [] \n",
    "src_img = imread(img_list[0])\n",
    "\n",
    "centers, r_estimated, metric = imfindcircles(src_img, \n",
    "                                             [params['min_rad'], params['max_rad']],\n",
    "                                            sensitivity = 0.95)\n",
    "\n",
    "src_circles = np.concatenate((centers, r_estimated[:,np.newaxis]), axis = 0).T\n",
    "src_circles = np.squeeze(src_circles)\n",
    "\n"
   ]
  },
  {
   "cell_type": "code",
   "execution_count": null,
   "metadata": {},
   "outputs": [
    {
     "name": "stderr",
     "output_type": "stream",
     "text": [
      "  3%|██▍                                                                               | 3/100 [00:15<08:35,  5.32s/it]"
     ]
    }
   ],
   "source": [
    "for img_path in tqdm(img_list[:100]): \n",
    "    dest_img = imread(img_path)\n",
    "    disp, dest_circles = displacement_measure(dest_img,\n",
    "                                              src_img,\n",
    "                                              src_circles = src_circles,                                            \n",
    "                                              min_rad = params['min_rad'],\n",
    "                                              max_rad = params['max_rad'])\n",
    "    \n",
    "    result.append(disp)\n",
    "    for dest_circle in dest_circles : \n",
    "        dest_img = cv2.circle(dest_img, tuple(np.asarray(dest_circle[:2], dtype =np.int64)), int(dest_circle[2]), (0,255,0), thickness=1, lineType=8, shift=0)\n",
    "    cv2.imwrite(img_path[:-4] + '_with_circles_result.jpeg', dest_img)\n",
    "    \n",
    "collect_rslt = []\n",
    "for rslt in result : \n",
    "    collect_rslt.append(rslt[0])\n",
    "    \n",
    "plt.plot(np.array(collect_rslt))"
   ]
  },
  {
   "cell_type": "code",
   "execution_count": 45,
   "metadata": {},
   "outputs": [],
   "source": [
    "## check the circle detection accuracy \n",
    "\n",
    "param1 = 200\n",
    "param2 = 14\n",
    "min_rad = 77\n",
    "max_rad = 83\n",
    "img = imread(img_list[0]) \n",
    "\n",
    "# ret3, grey_img = cv2.threshold(grey_img, 0, 255, cv2.THRESH_BINARY+cv2.THRESH_OTSU)\n",
    "grey_img = cv2.cvtColor(img, cv2.COLOR_BGR2GRAY)\n",
    "grey_img = cv2.adaptiveThreshold(grey_img,255,cv2.ADAPTIVE_THRESH_GAUSSIAN_C,\\\n",
    "        cv2.THRESH_BINARY,11,10)\n"
   ]
  },
  {
   "cell_type": "code",
   "execution_count": 45,
   "metadata": {},
   "outputs": [
    {
     "ename": "NameError",
     "evalue": "name 'grey_img' is not defined",
     "output_type": "error",
     "traceback": [
      "\u001b[1;31m---------------------------------------------------------------------------\u001b[0m",
      "\u001b[1;31mNameError\u001b[0m                                 Traceback (most recent call last)",
      "\u001b[1;32m<ipython-input-45-169e2a532ee6>\u001b[0m in \u001b[0;36m<module>\u001b[1;34m\u001b[0m\n\u001b[0;32m      1\u001b[0m \u001b[1;31m# th3 = 255 - th3\u001b[0m\u001b[1;33m\u001b[0m\u001b[1;33m\u001b[0m\u001b[1;33m\u001b[0m\u001b[0m\n\u001b[0;32m      2\u001b[0m \u001b[1;33m\u001b[0m\u001b[0m\n\u001b[1;32m----> 3\u001b[1;33m circles = cv2.HoughCircles(grey_img, \n\u001b[0m\u001b[0;32m      4\u001b[0m                            \u001b[0mcv2\u001b[0m\u001b[1;33m.\u001b[0m\u001b[0mHOUGH_GRADIENT\u001b[0m\u001b[1;33m,\u001b[0m\u001b[1;33m\u001b[0m\u001b[1;33m\u001b[0m\u001b[0m\n\u001b[0;32m      5\u001b[0m                            \u001b[1;36m1\u001b[0m\u001b[1;33m,\u001b[0m\u001b[1;33m\u001b[0m\u001b[1;33m\u001b[0m\u001b[0m\n",
      "\u001b[1;31mNameError\u001b[0m: name 'grey_img' is not defined"
     ]
    }
   ],
   "source": [
    "# th3 = 255 - th3\n",
    "\n",
    "circles = cv2.HoughCircles(grey_img, \n",
    "                           cv2.HOUGH_GRADIENT,\n",
    "                           1, \n",
    "                           max_rad*2, \n",
    "                           param1=param1,\n",
    "                           param2=param2,\n",
    "                           minRadius=min_rad,\n",
    "                           maxRadius=max_rad)\n",
    "\n",
    "# Draw circles that are detected. \n",
    "if circles is not None: \n",
    "  \n",
    "    # Convert the circle parameters a, b and r to integers. \n",
    "    circles = np.uint16(np.around(circles)) \n",
    "  \n",
    "    for pt in circles[0, :]: \n",
    "        a, b, r = pt[0], pt[1], pt[2] \n",
    "  \n",
    "        # Draw the circumference of the circle. \n",
    "        cv2.circle(img, (a, b), r, (0, 255, 0), 2) \n",
    "  \n",
    "        # Draw a small circle (of radius 1) to show the center. \n",
    "        cv2.circle(img, (a, b), 1, (0, 0, 255), 3) \n",
    "        cv2.imshow(\"Detected Circle\", img) \n",
    "        cv2.waitKey(0) \n",
    "else:\n",
    "        cv2.imshow('Circle is not detected', img)\n",
    "        cv2.waitKey(0) "
   ]
  },
  {
   "cell_type": "code",
   "execution_count": 13,
   "metadata": {},
   "outputs": [],
   "source": [
    "start_p = time.time()\n",
    "\n",
    "sensitivity = 0.96\n",
    "centers = []\n",
    "r_estimated = []\n",
    "metric = []\n",
    "radiusRange = [35, 45]\n",
    "\n",
    "A = imread(img_list[0]) \n",
    "\n",
    "centers, r_estimated, metric = imfindcircles(A, radiusRange,  ObjectPolarity = 'bright', sensitivity = 0.95)\n"
   ]
  }
 ],
 "metadata": {
  "kernelspec": {
   "display_name": "Python 3",
   "language": "python",
   "name": "python3"
  },
  "language_info": {
   "codemirror_mode": {
    "name": "ipython",
    "version": 3
   },
   "file_extension": ".py",
   "mimetype": "text/x-python",
   "name": "python",
   "nbconvert_exporter": "python",
   "pygments_lexer": "ipython3",
   "version": "3.7.7"
  }
 },
 "nbformat": 4,
 "nbformat_minor": 2
}
