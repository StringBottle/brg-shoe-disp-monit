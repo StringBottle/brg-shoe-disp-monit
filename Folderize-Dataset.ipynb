{
 "cells": [
  {
   "cell_type": "code",
   "execution_count": 10,
   "metadata": {},
   "outputs": [],
   "source": [
    "# import required libraires \n",
    "\n",
    "import shutil\n",
    "import os.path as osp \n",
    "\n",
    "from pathlib import Path\n",
    "from glob import glob \n",
    "\n",
    "from tqdm import tqdm\n",
    "\n",
    "from IPython import display\n"
   ]
  },
  {
   "cell_type": "code",
   "execution_count": 25,
   "metadata": {},
   "outputs": [],
   "source": [
    "dataset_dir = '/media/sss/Seagate Backup Plus Drive/NIA_Smart_Monitoring'\n",
    "file_list =  glob(osp.join(dataset_dir, '2020', 'data', \"*\"))\n",
    "folderized_dataset_dir = '/run/user/1000/gvfs/afp-volume:host=DiskStation.local,user=shm_nas,volume=Volume_2/NIA_Smart_Monitoring/folderized_data'"
   ]
  },
  {
   "cell_type": "code",
   "execution_count": 8,
   "metadata": {},
   "outputs": [
    {
     "ename": "IsADirectoryError",
     "evalue": "[Errno 21] Is a directory: '/media/sss/Seagate Backup Plus Drive/NIA_Smart_Monitoring/folderized_data/Tmp/129/2021/02/12'",
     "output_type": "error",
     "traceback": [
      "\u001b[0;31m---------------------------------------------------------------------------\u001b[0m",
      "\u001b[0;31mIsADirectoryError\u001b[0m                         Traceback (most recent call last)",
      "\u001b[0;32m<ipython-input-8-b6b75537eefb>\u001b[0m in \u001b[0;36m<module>\u001b[0;34m\u001b[0m\n\u001b[1;32m     13\u001b[0m         \u001b[0mPath\u001b[0m\u001b[0;34m(\u001b[0m\u001b[0msave_path\u001b[0m\u001b[0;34m)\u001b[0m\u001b[0;34m.\u001b[0m\u001b[0mmkdir\u001b[0m\u001b[0;34m(\u001b[0m\u001b[0mparents\u001b[0m\u001b[0;34m=\u001b[0m\u001b[0;32mTrue\u001b[0m\u001b[0;34m,\u001b[0m \u001b[0mexist_ok\u001b[0m\u001b[0;34m=\u001b[0m\u001b[0;32mTrue\u001b[0m\u001b[0;34m)\u001b[0m\u001b[0;34m\u001b[0m\u001b[0;34m\u001b[0m\u001b[0m\n\u001b[1;32m     14\u001b[0m \u001b[0;34m\u001b[0m\u001b[0m\n\u001b[0;32m---> 15\u001b[0;31m         \u001b[0mshutil\u001b[0m\u001b[0;34m.\u001b[0m\u001b[0mcopyfile\u001b[0m\u001b[0;34m(\u001b[0m\u001b[0mfile\u001b[0m\u001b[0;34m,\u001b[0m \u001b[0msave_path\u001b[0m\u001b[0;34m)\u001b[0m\u001b[0;34m\u001b[0m\u001b[0;34m\u001b[0m\u001b[0m\n\u001b[0m\u001b[1;32m     16\u001b[0m \u001b[0;34m\u001b[0m\u001b[0m\n\u001b[1;32m     17\u001b[0m \u001b[0;34m\u001b[0m\u001b[0m\n",
      "\u001b[0;32m~/anaconda3/envs/shoe-monit/lib/python3.7/shutil.py\u001b[0m in \u001b[0;36mcopyfile\u001b[0;34m(src, dst, follow_symlinks)\u001b[0m\n\u001b[1;32m    119\u001b[0m     \u001b[0;32melse\u001b[0m\u001b[0;34m:\u001b[0m\u001b[0;34m\u001b[0m\u001b[0;34m\u001b[0m\u001b[0m\n\u001b[1;32m    120\u001b[0m         \u001b[0;32mwith\u001b[0m \u001b[0mopen\u001b[0m\u001b[0;34m(\u001b[0m\u001b[0msrc\u001b[0m\u001b[0;34m,\u001b[0m \u001b[0;34m'rb'\u001b[0m\u001b[0;34m)\u001b[0m \u001b[0;32mas\u001b[0m \u001b[0mfsrc\u001b[0m\u001b[0;34m:\u001b[0m\u001b[0;34m\u001b[0m\u001b[0;34m\u001b[0m\u001b[0m\n\u001b[0;32m--> 121\u001b[0;31m             \u001b[0;32mwith\u001b[0m \u001b[0mopen\u001b[0m\u001b[0;34m(\u001b[0m\u001b[0mdst\u001b[0m\u001b[0;34m,\u001b[0m \u001b[0;34m'wb'\u001b[0m\u001b[0;34m)\u001b[0m \u001b[0;32mas\u001b[0m \u001b[0mfdst\u001b[0m\u001b[0;34m:\u001b[0m\u001b[0;34m\u001b[0m\u001b[0;34m\u001b[0m\u001b[0m\n\u001b[0m\u001b[1;32m    122\u001b[0m                 \u001b[0mcopyfileobj\u001b[0m\u001b[0;34m(\u001b[0m\u001b[0mfsrc\u001b[0m\u001b[0;34m,\u001b[0m \u001b[0mfdst\u001b[0m\u001b[0;34m)\u001b[0m\u001b[0;34m\u001b[0m\u001b[0;34m\u001b[0m\u001b[0m\n\u001b[1;32m    123\u001b[0m     \u001b[0;32mreturn\u001b[0m \u001b[0mdst\u001b[0m\u001b[0;34m\u001b[0m\u001b[0;34m\u001b[0m\u001b[0m\n",
      "\u001b[0;31mIsADirectoryError\u001b[0m: [Errno 21] Is a directory: '/media/sss/Seagate Backup Plus Drive/NIA_Smart_Monitoring/folderized_data/Tmp/129/2021/02/12'"
     ]
    }
   ],
   "source": [
    "for file in file_list[2001:] :\n",
    "    file_basename = osp.basename(file)\n",
    "    file_name_spilt = file_basename.split('_')\n",
    "    \n",
    "    if (file_name_spilt[0] == 'AES') or (file_name_spilt[0] == 'Img') or (file_name_spilt[0] == 'Tmp') : \n",
    "        sns_type = file_name_spilt[0] \n",
    "        sns_num = file_name_spilt[1]\n",
    "        year = file_name_spilt[2][:4]\n",
    "        month = file_name_spilt[2][4:6]\n",
    "        date = file_name_spilt[2][6:8]\n",
    "        save_path = osp.join(folderized_dataset_dir, sns_type, sns_num, year, month, date)\n",
    "        \n",
    "        Path(save_path).mkdir(parents=True, exist_ok=True)\n",
    "        \n",
    "        shutil.copyfile(file, save_path)\n",
    "        \n",
    "        \n",
    "        \n",
    "    "
   ]
  },
  {
   "cell_type": "code",
   "execution_count": null,
   "metadata": {},
   "outputs": [],
   "source": [
    "import pysftp\n",
    "\n",
    "Hostname = \"121.161.206.168\"\n",
    "Username = \"root\"\n",
    "Password = \"tltjf2019#\"\n",
    "\n",
    "\n",
    "cnopts = pysftp.CnOpts()\n",
    "cnopts.hostkeys = None\n",
    "\n",
    "\n",
    "with pysftp.Connection(host=Hostname, username=Username, password=Password,cnopts=cnopts, port=9017) as sftp:\n",
    "    with sftp.cd('..'):\n",
    "        filelist = sftp.listdir('/home/everythingadt/FSMS_SRV/data')\n",
    "        for file in file_list[:100] : \n",
    "            file_basename = osp.basename(file)\n",
    "            print(file_basename)\n",
    "#         print(filelist[:100])\n"
   ]
  },
  {
   "cell_type": "code",
   "execution_count": 17,
   "metadata": {},
   "outputs": [
    {
     "data": {
      "text/plain": [
       "True"
      ]
     },
     "execution_count": 17,
     "metadata": {},
     "output_type": "execute_result"
    }
   ],
   "source": [
    "osp.exists(osp.join(save_path, file))"
   ]
  },
  {
   "cell_type": "code",
   "execution_count": 23,
   "metadata": {},
   "outputs": [
    {
     "data": {
      "text/plain": [
       "'/run/user/1000/gvfs/afp-volume:host=DiskStation.local,user=shm_nas,volume=Volume_2/NIA_Smart_Monitoring/AES/022/2020/10/24/AES_022_20201024_040000.wav'"
      ]
     },
     "execution_count": 23,
     "metadata": {},
     "output_type": "execute_result"
    }
   ],
   "source": [
    "osp.join(save_path, file)"
   ]
  },
  {
   "cell_type": "code",
   "execution_count": 22,
   "metadata": {},
   "outputs": [
    {
     "data": {
      "text/plain": [
       "True"
      ]
     },
     "execution_count": 22,
     "metadata": {},
     "output_type": "execute_result"
    }
   ],
   "source": [
    "osp.exists(osp.join(save_path, file))"
   ]
  },
  {
   "cell_type": "code",
   "execution_count": 26,
   "metadata": {},
   "outputs": [
    {
     "name": "stderr",
     "output_type": "stream",
     "text": [
      "100%|██████████| 1668442/1668442 [7:53:37<00:00, 58.71it/s]"
     ]
    },
    {
     "name": "stdout",
     "output_type": "stream",
     "text": [
      "Downloading is complete.\n"
     ]
    },
    {
     "name": "stderr",
     "output_type": "stream",
     "text": [
      "\n"
     ]
    }
   ],
   "source": [
    "import pysftp\n",
    "\n",
    "Hostname = \"121.161.206.168\"\n",
    "Username = \"root\"\n",
    "Password = \"tltjf2019#\"\n",
    "\n",
    "\n",
    "cnopts = pysftp.CnOpts()\n",
    "cnopts.hostkeys = None\n",
    "\n",
    "dataset_dir_in_sftp = '/home/everythingadt/FSMS_SRV/data'\n",
    "\n",
    "with pysftp.Connection(host=Hostname, username=Username, password=Password,cnopts=cnopts, port=9017) as sftp:\n",
    "    with sftp.cd('..'):\n",
    "        filelist = sftp.listdir(dataset_dir_in_sftp)\n",
    "        print('File list is read successfully.')\n",
    "        idx = 0\n",
    "        for file in tqdm(filelist) : \n",
    "        #     file_basename = osp.basename(file)\n",
    "        #     print(file)\n",
    "            file_name_spilt = file.split('_')\n",
    "            if (file_name_spilt[0] == 'AES') or (file_name_spilt[0] == 'Img') or (file_name_spilt[0] == 'Tmp') : \n",
    "                sns_type = file_name_spilt[0] \n",
    "                sns_num = file_name_spilt[1]\n",
    "                year = file_name_spilt[2][:4]\n",
    "                month = file_name_spilt[2][4:6]\n",
    "                date = file_name_spilt[2][6:8]\n",
    "\n",
    "                save_path = osp.join(folderized_dataset_dir, sns_type, sns_num, year, month, date)\n",
    "                Path(save_path).mkdir(parents=True, exist_ok=True)\n",
    "    \n",
    "                print(osp.exists(save_path))\n",
    "\n",
    "                if osp.exists(osp.join(save_path, file)) : \n",
    "                    print('File is already downloaded, so downloading is skipped. File name is ' + file)\n",
    "                else: \n",
    "                    sftp.get(osp.join(dataset_dir_in_sftp, file), osp.join(save_path,  file))\n",
    "                    print('File Transfer is successful, file name is ' + file)\n",
    "                    \n",
    "            idx = idx + 1\n",
    "            \n",
    "            if idx % 10 == 0 : \n",
    "                display.clear_output(wait=True)\n",
    "\n",
    "\n",
    "                \n",
    "\n",
    "        print('Downloading is complete.')"
   ]
  },
  {
   "cell_type": "code",
   "execution_count": 14,
   "metadata": {},
   "outputs": [
    {
     "name": "stderr",
     "output_type": "stream",
     "text": [
      " 49%|████▉     | 819961/1666298 [00:00<00:00, 1037584.67it/s]\n"
     ]
    },
    {
     "name": "stdout",
     "output_type": "stream",
     "text": [
      "True\n"
     ]
    },
    {
     "ename": "AttributeError",
     "evalue": "'NoneType' object has no attribute 'open_session'",
     "output_type": "error",
     "traceback": [
      "\u001b[0;31m---------------------------------------------------------------------------\u001b[0m",
      "\u001b[0;31mAttributeError\u001b[0m                            Traceback (most recent call last)",
      "\u001b[0;32m<ipython-input-14-1c20d5d37836>\u001b[0m in \u001b[0;36m<module>\u001b[0;34m\u001b[0m\n\u001b[1;32m     19\u001b[0m             \u001b[0mprint\u001b[0m\u001b[0;34m(\u001b[0m\u001b[0;34m'File is already downloaded, so downloading is skipped. File name is '\u001b[0m \u001b[0;34m+\u001b[0m \u001b[0mfile\u001b[0m\u001b[0;34m)\u001b[0m\u001b[0;34m\u001b[0m\u001b[0;34m\u001b[0m\u001b[0m\n\u001b[1;32m     20\u001b[0m         \u001b[0;32melse\u001b[0m\u001b[0;34m:\u001b[0m\u001b[0;34m\u001b[0m\u001b[0;34m\u001b[0m\u001b[0m\n\u001b[0;32m---> 21\u001b[0;31m             \u001b[0msftp\u001b[0m\u001b[0;34m.\u001b[0m\u001b[0mget\u001b[0m\u001b[0;34m(\u001b[0m\u001b[0mosp\u001b[0m\u001b[0;34m.\u001b[0m\u001b[0mjoin\u001b[0m\u001b[0;34m(\u001b[0m\u001b[0mdataset_dir_in_sftp\u001b[0m\u001b[0;34m,\u001b[0m \u001b[0mfile\u001b[0m\u001b[0;34m)\u001b[0m\u001b[0;34m,\u001b[0m \u001b[0mosp\u001b[0m\u001b[0;34m.\u001b[0m\u001b[0mjoin\u001b[0m\u001b[0;34m(\u001b[0m\u001b[0msave_path\u001b[0m\u001b[0;34m,\u001b[0m  \u001b[0mfile\u001b[0m\u001b[0;34m)\u001b[0m\u001b[0;34m)\u001b[0m\u001b[0;34m\u001b[0m\u001b[0;34m\u001b[0m\u001b[0m\n\u001b[0m\u001b[1;32m     22\u001b[0m             \u001b[0mprint\u001b[0m\u001b[0;34m(\u001b[0m\u001b[0;34m'File Transfer is successful, file name is '\u001b[0m \u001b[0;34m+\u001b[0m \u001b[0mfile\u001b[0m\u001b[0;34m)\u001b[0m\u001b[0;34m\u001b[0m\u001b[0;34m\u001b[0m\u001b[0m\n\u001b[1;32m     23\u001b[0m             \u001b[0mshutil\u001b[0m\u001b[0;34m.\u001b[0m\u001b[0mcopyfile\u001b[0m\u001b[0;34m(\u001b[0m\u001b[0mfile\u001b[0m\u001b[0;34m,\u001b[0m \u001b[0msave_path\u001b[0m\u001b[0;34m)\u001b[0m\u001b[0;34m\u001b[0m\u001b[0;34m\u001b[0m\u001b[0m\n",
      "\u001b[0;32m~/anaconda3/envs/shoe-monit/lib/python3.7/site-packages/pysftp/__init__.py\u001b[0m in \u001b[0;36mget\u001b[0;34m(self, remotepath, localpath, callback, preserve_mtime)\u001b[0m\n\u001b[1;32m    243\u001b[0m             \u001b[0mlocalpath\u001b[0m \u001b[0;34m=\u001b[0m \u001b[0mos\u001b[0m\u001b[0;34m.\u001b[0m\u001b[0mpath\u001b[0m\u001b[0;34m.\u001b[0m\u001b[0msplit\u001b[0m\u001b[0;34m(\u001b[0m\u001b[0mremotepath\u001b[0m\u001b[0;34m)\u001b[0m\u001b[0;34m[\u001b[0m\u001b[0;36m1\u001b[0m\u001b[0;34m]\u001b[0m\u001b[0;34m\u001b[0m\u001b[0;34m\u001b[0m\u001b[0m\n\u001b[1;32m    244\u001b[0m \u001b[0;34m\u001b[0m\u001b[0m\n\u001b[0;32m--> 245\u001b[0;31m         \u001b[0mself\u001b[0m\u001b[0;34m.\u001b[0m\u001b[0m_sftp_connect\u001b[0m\u001b[0;34m(\u001b[0m\u001b[0;34m)\u001b[0m\u001b[0;34m\u001b[0m\u001b[0;34m\u001b[0m\u001b[0m\n\u001b[0m\u001b[1;32m    246\u001b[0m         \u001b[0;32mif\u001b[0m \u001b[0mpreserve_mtime\u001b[0m\u001b[0;34m:\u001b[0m\u001b[0;34m\u001b[0m\u001b[0;34m\u001b[0m\u001b[0m\n\u001b[1;32m    247\u001b[0m             \u001b[0msftpattrs\u001b[0m \u001b[0;34m=\u001b[0m \u001b[0mself\u001b[0m\u001b[0;34m.\u001b[0m\u001b[0m_sftp\u001b[0m\u001b[0;34m.\u001b[0m\u001b[0mstat\u001b[0m\u001b[0;34m(\u001b[0m\u001b[0mremotepath\u001b[0m\u001b[0;34m)\u001b[0m\u001b[0;34m\u001b[0m\u001b[0;34m\u001b[0m\u001b[0m\n",
      "\u001b[0;32m~/anaconda3/envs/shoe-monit/lib/python3.7/site-packages/pysftp/__init__.py\u001b[0m in \u001b[0;36m_sftp_connect\u001b[0;34m(self)\u001b[0m\n\u001b[1;32m    203\u001b[0m         \u001b[0;34m\"\"\"Establish the SFTP connection.\"\"\"\u001b[0m\u001b[0;34m\u001b[0m\u001b[0;34m\u001b[0m\u001b[0m\n\u001b[1;32m    204\u001b[0m         \u001b[0;32mif\u001b[0m \u001b[0;32mnot\u001b[0m \u001b[0mself\u001b[0m\u001b[0;34m.\u001b[0m\u001b[0m_sftp_live\u001b[0m\u001b[0;34m:\u001b[0m\u001b[0;34m\u001b[0m\u001b[0;34m\u001b[0m\u001b[0m\n\u001b[0;32m--> 205\u001b[0;31m             \u001b[0mself\u001b[0m\u001b[0;34m.\u001b[0m\u001b[0m_sftp\u001b[0m \u001b[0;34m=\u001b[0m \u001b[0mparamiko\u001b[0m\u001b[0;34m.\u001b[0m\u001b[0mSFTPClient\u001b[0m\u001b[0;34m.\u001b[0m\u001b[0mfrom_transport\u001b[0m\u001b[0;34m(\u001b[0m\u001b[0mself\u001b[0m\u001b[0;34m.\u001b[0m\u001b[0m_transport\u001b[0m\u001b[0;34m)\u001b[0m\u001b[0;34m\u001b[0m\u001b[0;34m\u001b[0m\u001b[0m\n\u001b[0m\u001b[1;32m    206\u001b[0m             \u001b[0;32mif\u001b[0m \u001b[0mself\u001b[0m\u001b[0;34m.\u001b[0m\u001b[0m_default_path\u001b[0m \u001b[0;32mis\u001b[0m \u001b[0;32mnot\u001b[0m \u001b[0;32mNone\u001b[0m\u001b[0;34m:\u001b[0m\u001b[0;34m\u001b[0m\u001b[0;34m\u001b[0m\u001b[0m\n\u001b[1;32m    207\u001b[0m                 \u001b[0;31m# print(\"_default_path: [%s]\" % self._default_path)\u001b[0m\u001b[0;34m\u001b[0m\u001b[0;34m\u001b[0m\u001b[0;34m\u001b[0m\u001b[0m\n",
      "\u001b[0;32m~/anaconda3/envs/shoe-monit/lib/python3.7/site-packages/paramiko/sftp_client.py\u001b[0m in \u001b[0;36mfrom_transport\u001b[0;34m(cls, t, window_size, max_packet_size)\u001b[0m\n\u001b[1;32m    162\u001b[0m             \u001b[0mAdded\u001b[0m \u001b[0mthe\u001b[0m\u001b[0;31m \u001b[0m\u001b[0;31m`\u001b[0m\u001b[0;31m`\u001b[0m\u001b[0mwindow_size\u001b[0m\u001b[0;31m`\u001b[0m\u001b[0;31m`\u001b[0m \u001b[0;32mand\u001b[0m\u001b[0;31m \u001b[0m\u001b[0;31m`\u001b[0m\u001b[0;31m`\u001b[0m\u001b[0mmax_packet_size\u001b[0m\u001b[0;31m`\u001b[0m\u001b[0;31m`\u001b[0m \u001b[0marguments\u001b[0m\u001b[0;34m.\u001b[0m\u001b[0;34m\u001b[0m\u001b[0;34m\u001b[0m\u001b[0m\n\u001b[1;32m    163\u001b[0m         \"\"\"\n\u001b[0;32m--> 164\u001b[0;31m         chan = t.open_session(\n\u001b[0m\u001b[1;32m    165\u001b[0m             \u001b[0mwindow_size\u001b[0m\u001b[0;34m=\u001b[0m\u001b[0mwindow_size\u001b[0m\u001b[0;34m,\u001b[0m \u001b[0mmax_packet_size\u001b[0m\u001b[0;34m=\u001b[0m\u001b[0mmax_packet_size\u001b[0m\u001b[0;34m\u001b[0m\u001b[0;34m\u001b[0m\u001b[0m\n\u001b[1;32m    166\u001b[0m         )\n",
      "\u001b[0;31mAttributeError\u001b[0m: 'NoneType' object has no attribute 'open_session'"
     ]
    }
   ],
   "source": [
    "for file in tqdm(filelist) : \n",
    "#     file_basename = osp.basename(file)\n",
    "#     print(file)\n",
    "    file_name_spilt = file.split('_')\n",
    "    if (file_name_spilt[0] == 'AES') or (file_name_spilt[0] == 'Img') or (file_name_spilt[0] == 'Tmp') : \n",
    "        sns_type = file_name_spilt[0] \n",
    "        sns_num = file_name_spilt[1]\n",
    "        year = file_name_spilt[2][:4]\n",
    "        month = file_name_spilt[2][4:6]\n",
    "        date = file_name_spilt[2][6:8]\n",
    "\n",
    "        save_path = osp.join(folderized_dataset_dir, sns_type, sns_num, year, month, date)\n",
    "        Path(save_path).mkdir(parents=True, exist_ok=True)\n",
    "\n",
    "        print(osp.exists(save_path))\n",
    "\n",
    "\n",
    "        if osp.exists(osp.join(save_path, file)) : \n",
    "            print('File is already downloaded, so downloading is skipped. File name is ' + file)\n",
    "        else:\n",
    "            sftp.get(osp.join(dataset_dir_in_sftp, file), osp.join(save_path,  file))\n",
    "            print('File Transfer is successful, file name is ' + file)\n",
    "            shutil.copyfile(file, save_path)\n",
    "\n",
    "#     display.clear_output(wait=True)\n",
    "\n",
    "\n",
    "\n",
    "\n",
    "print('Downloading is complete.')"
   ]
  },
  {
   "cell_type": "code",
   "execution_count": 60,
   "metadata": {},
   "outputs": [
    {
     "name": "stdout",
     "output_type": "stream",
     "text": [
      "File Transfer is successful, file name is AES_001_20200801_000000.wav\n"
     ]
    }
   ],
   "source": [
    "\n",
    "with pysftp.Connection(host=Hostname, username=Username, password=Password,cnopts=cnopts, port=9017) as sftp:\n",
    "    with sftp.cd('..'):\n",
    "        sftp.get(osp.join(dataset_dir_in_sftp, file), osp.join(save_path, file))\n",
    "        print('File Transfer is successful, file name is ' + file)\n"
   ]
  }
 ],
 "metadata": {
  "kernelspec": {
   "display_name": "Python 3",
   "language": "python",
   "name": "python3"
  },
  "language_info": {
   "codemirror_mode": {
    "name": "ipython",
    "version": 3
   },
   "file_extension": ".py",
   "mimetype": "text/x-python",
   "name": "python",
   "nbconvert_exporter": "python",
   "pygments_lexer": "ipython3",
   "version": "3.7.9"
  }
 },
 "nbformat": 4,
 "nbformat_minor": 4
}
