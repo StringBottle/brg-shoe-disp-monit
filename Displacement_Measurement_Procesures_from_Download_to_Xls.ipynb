{
 "cells": [
  {
   "cell_type": "markdown",
   "metadata": {},
   "source": [
    "\n",
    "### Displacement Measurement Procedure - from downlaod to xls \n",
    "\n",
    "This notebook includes \n",
    "    1. Download target images from the server in Seoul Facility Cooporation \n",
    "    2. Distribute the downloaded images from "
   ]
  },
  {
   "cell_type": "code",
   "execution_count": 3,
   "metadata": {},
   "outputs": [],
   "source": [
    "import os.path as osp\n",
    "import pandas as pd\n",
    "\n",
    "from glob import glob\n",
    "from tqdm import tqdm\n",
    "from sscv import imread, imwrite\n"
   ]
  },
  {
   "cell_type": "code",
   "execution_count": 5,
   "metadata": {},
   "outputs": [
    {
     "name": "stderr",
     "output_type": "stream",
     "text": [
      "100%|██████████| 83/83 [00:15<00:00,  5.30it/s]\n"
     ]
    }
   ],
   "source": [
    "SNS_INFO = pd.read_csv('sensor_info.csv')\n",
    "\n",
    "# set dataset folder directory \n",
    "data_root = '/media/sss/Seagate Backup Plus Drive/NIA_Smart_Monitoring/folderized_data'\n",
    "\n",
    "# Sensor type \n",
    "sns_type = 'Img'\n",
    "\n",
    "# create image sensor list from folder \n",
    "# loop along folders under Img \n",
    "# img_sns_list = []\n",
    "# for folder in glob(osp.join(data_root, sns_type, '*')): \n",
    "#     img_sns_list.append(osp.basename(folder))\n",
    "\n",
    "# img_sns_list.sort()\n",
    "img_sns_list = ['002', '005', '008', '011', '014', '017', \"023\", \"026\",\n",
    "              '029', '032','035','038','041','044','047','050','062','065','068',\n",
    "              '071','074','077','090','093','094','097','098','103','104','107',\n",
    "              '108','111','112','115','116','119','120','123','124','127','128',\n",
    "              '131','132','135','136','139','140','143','144','147','148','151',\n",
    "              '152','155','156','159','160','163','164','167','168','171','172',\n",
    "              '175','176','179','180','183','184','187','188','191','192','195',\n",
    "              '196','199','200','203','204','207','208','211','212']\n",
    "# search imgs in subdirectories \n",
    "img_folder_list = []\n",
    "for sns_num in tqdm(img_sns_list) : \n",
    "    img_list = glob(osp.join(data_root, sns_type, sns_num, '*', '*', '*'))\n",
    "    \n",
    "    filtered_list_by_year =  [item for item in img_list if int(item.split('/')[-3]) >= 2021]\n",
    "#     filtered_list_by_month =  [item for item in filtered_list_by_year if int(item.split('/')[-2]) >= 9]\n",
    "#     filtered_list_by_date =  [item for item in filtered_list_by_month if int(item.split('/')[-1]) >= 1]\n",
    "    img_folder_list.append(filtered_list_by_year)\n",
    "    \n",
    "    \n",
    "\n",
    "\n"
   ]
  },
  {
   "cell_type": "code",
   "execution_count": 6,
   "metadata": {},
   "outputs": [
    {
     "name": "stderr",
     "output_type": "stream",
     "text": [
      "100%|██████████| 83/83 [00:12<00:00,  6.53it/s]\n"
     ]
    }
   ],
   "source": [
    "from pathlib import Path\n",
    "\n",
    "for img_folder in tqdm(img_folder_list): \n",
    "    \n",
    "    year = '2020'\n",
    "    month = '10'\n",
    "    date = '14'\n",
    "    time = '16'\n",
    "    \n",
    "    sns_num = img_folder[0].split('/')[-4]\n",
    "    \n",
    "    \n",
    "    if sns_num == '011':\n",
    "        time = '01'\n",
    "    elif sns_num == '041':\n",
    "        time = '16'\n",
    "    elif sns_num == '135':\n",
    "        time = '07'\n",
    "    elif sns_num == '071':\n",
    "        time = '11'\n",
    "    elif sns_num == '155':\n",
    "        time = '23'\n",
    "    \n",
    "    src_circles_folder = osp.join(data_root, sns_type, sns_num, year, month, date) # set 20200902 04\n",
    "    \n",
    "    log_folder = osp.join(src_circles_folder, 'logs')\n",
    "    \n",
    "    log_folder_exits = Path(log_folder).exists()\n",
    "\n",
    "    if log_folder_exits : \n",
    "\n",
    "        log_folders_by_time = glob(osp.join(log_folder, '*' ))\n",
    "\n",
    "        if len(log_folders_by_time) > 2 :\n",
    "            log_folders_by_time.sort()\n",
    "            latest_log = log_folders_by_time[-1]\n",
    "\n",
    "        else: \n",
    "            latest_log = log_folders_by_time[0]\n",
    "\n",
    "        circle_detection_folder = osp.join(latest_log, 'circle_detection_result_images')\n",
    "\n",
    "    \n",
    "        src_img_name = 'Img_' + sns_num + '_' + year + month + date + '_' + time + '0100.jpg'\n",
    "\n",
    "        img = imread(osp.join(circle_detection_folder, src_img_name))\n",
    "\n",
    "        imwrite(osp.join('temp', src_img_name), img)\n",
    "    "
   ]
  },
  {
   "cell_type": "code",
   "execution_count": 17,
   "metadata": {},
   "outputs": [
    {
     "data": {
      "text/plain": [
       "70"
      ]
     },
     "execution_count": 17,
     "metadata": {},
     "output_type": "execute_result"
    }
   ],
   "source": [
    "len(glob('temp/*.jpg'))"
   ]
  },
  {
   "cell_type": "code",
   "execution_count": null,
   "metadata": {},
   "outputs": [],
   "source": []
  }
 ],
 "metadata": {
  "kernelspec": {
   "display_name": "Python 3",
   "language": "python",
   "name": "python3"
  },
  "language_info": {
   "codemirror_mode": {
    "name": "ipython",
    "version": 3
   },
   "file_extension": ".py",
   "mimetype": "text/x-python",
   "name": "python",
   "nbconvert_exporter": "python",
   "pygments_lexer": "ipython3",
   "version": "3.7.9"
  }
 },
 "nbformat": 4,
 "nbformat_minor": 4
}
