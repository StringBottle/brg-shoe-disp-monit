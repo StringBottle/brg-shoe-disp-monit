{
 "cells": [
  {
   "cell_type": "code",
   "execution_count": 1,
   "metadata": {},
   "outputs": [],
   "source": [
    "import cv2 \n",
    "import os \n",
    "import json\n",
    "import csv\n",
    "import numpy as np\n",
    "import matplotlib.pyplot as plt \n",
    "import pandas as pd\n",
    "\n",
    "from p_tqdm import p_map\n",
    "from pathlib import Path\n",
    "from glob import glob \n",
    "from tqdm import tqdm \n",
    "\n",
    "import sys \n",
    "sys.path.append('../')\n",
    "\n",
    "from module.utils import imread, imfindcircles, findProjectiveTransform, str2array, adjust_gamma, find_valid_dest_circles, adaptiveThreshold_3ch\n",
    "from module.utils import getEdgePixels, imgradient, getGrayImage, chaccum\n",
    "from module.disp_measure import displacement_measure"
   ]
  },
  {
   "cell_type": "code",
   "execution_count": 2,
   "metadata": {},
   "outputs": [
    {
     "data": {
      "text/plain": [
       "{'min_rad': 70,\n",
       " 'max_rad': 90,\n",
       " 'sensitivity': 0.98,\n",
       " 'src_img': 'Img_164_20200901_160100.jpg'}"
      ]
     },
     "execution_count": 2,
     "metadata": {},
     "output_type": "execute_result"
    }
   ],
   "source": [
    "# 센서 번호 입력\n",
    "\n",
    "sensor_num = str('164')\n",
    "\n",
    "# 센서 번호에 따른 이미지 리스트 호출\n",
    "img_folder = 'imgs'\n",
    "img_list = glob(os.path.join(img_folder, 'Img_' + sensor_num + '*.jpg'))\n",
    "\n",
    "# 센서 번호에 따른 세부 파라메터 호출 \n",
    "with open('../params.json') as param_config_json : \n",
    "    param_config = json.load(param_config_json)\n",
    "    \n",
    "params = param_config[sensor_num]\n",
    "\n",
    "\n",
    "min_rad = params.get(\"min_rad\",70)\n",
    "max_rad = params.get(\"max_rad\",100)\n",
    "sensitivity = params.get(\"sensitivity\",0.98)\n",
    "gamma = float(params.get(\"gamma\", 1.0))\n",
    "binarization = params.get(\"binarization\", 0)\n",
    "\n",
    "params"
   ]
  },
  {
   "cell_type": "code",
   "execution_count": 3,
   "metadata": {
    "scrolled": true
   },
   "outputs": [
    {
     "name": "stderr",
     "output_type": "stream",
     "text": [
      "100%|██████████| 24/24 [01:03<00:00,  2.64s/it]\n"
     ]
    }
   ],
   "source": [
    "result_folder = os.path.join(\"imgs\", 'result', sensor_num)\n",
    "Path(result_folder).mkdir(parents=True, exist_ok=True)\n",
    "img_list.sort()\n",
    "    \n",
    "for img_path in tqdm(img_list) : \n",
    "\n",
    "    img = imread(img_path)\n",
    "    img_basename = os.path.basename(img_path)\n",
    "    img_copy = img.copy()\n",
    "\n",
    "\n",
    "    if gamma != 1.0 :  \n",
    "        img = adjust_gamma(img, gamma=gamma)\n",
    "\n",
    "    if binarization : \n",
    "        img = adaptiveThreshold_3ch(img, min_rad)\n",
    "\n",
    "    centers, r_estimated, metric = imfindcircles(img, \n",
    "                                                 [params['min_rad'], params['max_rad']],\n",
    "                                                sensitivity = sensitivity)\n",
    "    circles = np.concatenate((centers, r_estimated[:,np.newaxis]), axis = 0).T\n",
    "    circles = np.squeeze(circles)\n",
    "    \n",
    "    if len(circles) > 4 : \n",
    "        circles = find_valid_dest_circles(circles)\n",
    "\n",
    "    if circles is not None: \n",
    "        # Convert the circle parameters a, b and r to integers. \n",
    "        circles = np.uint16(np.around(circles)) \n",
    "        if circles.ndim ==1 : \n",
    "            circles = circles[np.newaxis, :]\n",
    "        for pt in circles: \n",
    "            a, b, r = pt[0], pt[1], pt[2]   \n",
    "            # Draw the circumference of the circle. \n",
    "            cv2.circle(img_copy, (a, b), r, (0, 255, 0), 2) \n",
    "            # Draw a small circle (of radius 1) to show the center. \n",
    "            cv2.circle(img_copy, (a, b), 1, (0, 0, 255), 3) \n",
    "\n",
    "        cv2.imwrite(os.path.join(result_folder, img_basename), cv2.cvtColor(img_copy, cv2.COLOR_BGR2RGB))\n",
    "    else:\n",
    "        print(\"circles is not detected\")"
   ]
  },
  {
   "cell_type": "code",
   "execution_count": 4,
   "metadata": {},
   "outputs": [
    {
     "name": "stderr",
     "output_type": "stream",
     "text": [
      "100%|██████████| 24/24 [01:02<00:00,  2.62s/it]\n"
     ]
    },
    {
     "data": {
      "text/plain": [
       "[<matplotlib.lines.Line2D at 0x7f79743115b0>]"
      ]
     },
     "execution_count": 4,
     "metadata": {},
     "output_type": "execute_result"
    },
    {
     "data": {
      "image/png": "[encoded data removed]",
      "text/plain": [
       "<Figure size 432x288 with 1 Axes>"
      ]
     },
     "metadata": {
      "needs_background": "light"
     },
     "output_type": "display_data"
    }
   ],
   "source": [
    "result = [] # 결과를 저장할 result list \n",
    "\n",
    "# 최초 source image에서 circle detection 수행 \n",
    "src_img = cv2.imread(img_list[0])\n",
    "\n",
    "if gamma != 1.0 :  \n",
    "    src_img = adjust_gamma(src_img, gamma=gamma)\n",
    "\n",
    "if binarization : \n",
    "    src_img = adaptiveThreshold_3ch(src_img, min_rad)\n",
    "\n",
    "centers, r_estimated, metric = imfindcircles(src_img, \n",
    "                                             [min_rad, max_rad],\n",
    "                                            sensitivity = sensitivity)\n",
    "\n",
    "src_circles = np.concatenate((centers, r_estimated[:,np.newaxis]), axis = 0).T\n",
    "src_circles = np.squeeze(src_circles)\n",
    "# src_img = cv2.imread(img_list[0])\n",
    "# 호출된 이미지 목록에서 displacement_measure 수행 \n",
    "for img_path in tqdm(img_list): \n",
    "    dest_img = cv2.imread(img_path)\n",
    "       \n",
    "    '''\n",
    "    변경사항\n",
    "    1. 함수 이름을 displacement_measure로 변경하였습니다. \n",
    "    2. displacement_measure에 필요한 변수는 아래와 같습니다. \n",
    "        1) dest_img : 측정 대상 이미지 \n",
    "        2) src_img : 고정점 이미지 \n",
    "        3) src_circles : 고정점 이미지에서 탐지된 원들의 중심 좌표 및 지름 (고정점 이미지에서 변위 재측정 방지용)\n",
    "        4) min_rad : 최소 원의 지름 크기 / max_rad : 최대 원의 지름 크기 \n",
    "    '''\n",
    "    disp, dest_circles = displacement_measure(dest_img,\n",
    "                                              src_img,\n",
    "                                              params = params,\n",
    "                                              src_circles = src_circles\n",
    "                                              )\n",
    "    \n",
    "    result.append(disp)\n",
    "#     for dest_circle in dest_circles : \n",
    "#         dest_img = cv2.circle(dest_img, tuple(np.asarray(dest_circle[:2], dtype =np.int64)), int(dest_circle[2]), (0,255,0), thickness=1, lineType=8, shift=0)\n",
    "#     cv2.imwrite(img_path[:-4] + '_with_circles_result.jpeg', dest_img)\n",
    "    \n",
    "collect_rslt = []\n",
    "for rslt in result : \n",
    "    collect_rslt.append(rslt[0])\n",
    "    \n",
    "plt.plot(np.array(collect_rslt))"
   ]
  },
  {
   "cell_type": "code",
   "execution_count": null,
   "metadata": {},
   "outputs": [],
   "source": []
  }
 ],
 "metadata": {
  "kernelspec": {
   "display_name": "Python 3",
   "language": "python",
   "name": "python3"
  },
  "language_info": {
   "codemirror_mode": {
    "name": "ipython",
    "version": 3
   },
   "file_extension": ".py",
   "mimetype": "text/x-python",
   "name": "python",
   "nbconvert_exporter": "python",
   "pygments_lexer": "ipython3",
   "version": "3.7.9"
  }
 },
 "nbformat": 4,
 "nbformat_minor": 2
}
